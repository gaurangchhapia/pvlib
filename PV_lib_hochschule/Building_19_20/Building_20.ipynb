{
 "cells": [
  {
   "cell_type": "code",
   "execution_count": 1,
   "id": "ebaf6b61",
   "metadata": {},
   "outputs": [
    {
     "name": "stdout",
     "output_type": "stream",
     "text": [
      "Requirement already satisfied: chart_studio in c:\\users\\gaurang\\anaconda3\\lib\\site-packages (1.1.0)\n",
      "Requirement already satisfied: plotly in c:\\users\\gaurang\\anaconda3\\lib\\site-packages (from chart_studio) (5.9.0)\n",
      "Requirement already satisfied: retrying>=1.3.3 in c:\\users\\gaurang\\anaconda3\\lib\\site-packages (from chart_studio) (1.3.3)\n",
      "Requirement already satisfied: requests in c:\\users\\gaurang\\anaconda3\\lib\\site-packages (from chart_studio) (2.28.1)\n",
      "Requirement already satisfied: six in c:\\users\\gaurang\\anaconda3\\lib\\site-packages (from chart_studio) (1.16.0)\n",
      "Requirement already satisfied: tenacity>=6.2.0 in c:\\users\\gaurang\\anaconda3\\lib\\site-packages (from plotly->chart_studio) (8.0.1)\n",
      "Requirement already satisfied: certifi>=2017.4.17 in c:\\users\\gaurang\\anaconda3\\lib\\site-packages (from requests->chart_studio) (2022.9.14)\n",
      "Requirement already satisfied: charset-normalizer<3,>=2 in c:\\users\\gaurang\\anaconda3\\lib\\site-packages (from requests->chart_studio) (2.0.4)\n",
      "Requirement already satisfied: urllib3<1.27,>=1.21.1 in c:\\users\\gaurang\\anaconda3\\lib\\site-packages (from requests->chart_studio) (1.26.11)\n",
      "Requirement already satisfied: idna<4,>=2.5 in c:\\users\\gaurang\\anaconda3\\lib\\site-packages (from requests->chart_studio) (3.3)\n",
      "Requirement already satisfied: cufflinks in c:\\users\\gaurang\\anaconda3\\lib\\site-packages (0.17.3)\n",
      "Requirement already satisfied: pandas>=0.19.2 in c:\\users\\gaurang\\anaconda3\\lib\\site-packages (from cufflinks) (1.4.4)\n",
      "Requirement already satisfied: colorlover>=0.2.1 in c:\\users\\gaurang\\anaconda3\\lib\\site-packages (from cufflinks) (0.3.0)\n",
      "Requirement already satisfied: setuptools>=34.4.1 in c:\\users\\gaurang\\anaconda3\\lib\\site-packages (from cufflinks) (63.4.1)\n",
      "Requirement already satisfied: numpy>=1.9.2 in c:\\users\\gaurang\\anaconda3\\lib\\site-packages (from cufflinks) (1.21.5)\n",
      "Requirement already satisfied: ipython>=5.3.0 in c:\\users\\gaurang\\anaconda3\\lib\\site-packages (from cufflinks) (7.31.1)\n",
      "Requirement already satisfied: plotly>=4.1.1 in c:\\users\\gaurang\\anaconda3\\lib\\site-packages (from cufflinks) (5.9.0)\n",
      "Requirement already satisfied: ipywidgets>=7.0.0 in c:\\users\\gaurang\\anaconda3\\lib\\site-packages (from cufflinks) (7.6.5)\n",
      "Requirement already satisfied: six>=1.9.0 in c:\\users\\gaurang\\anaconda3\\lib\\site-packages (from cufflinks) (1.16.0)\n",
      "Requirement already satisfied: colorama in c:\\users\\gaurang\\anaconda3\\lib\\site-packages (from ipython>=5.3.0->cufflinks) (0.4.5)\n",
      "Requirement already satisfied: pygments in c:\\users\\gaurang\\anaconda3\\lib\\site-packages (from ipython>=5.3.0->cufflinks) (2.11.2)\n",
      "Requirement already satisfied: backcall in c:\\users\\gaurang\\anaconda3\\lib\\site-packages (from ipython>=5.3.0->cufflinks) (0.2.0)\n",
      "Requirement already satisfied: jedi>=0.16 in c:\\users\\gaurang\\anaconda3\\lib\\site-packages (from ipython>=5.3.0->cufflinks) (0.18.1)\n",
      "Requirement already satisfied: matplotlib-inline in c:\\users\\gaurang\\anaconda3\\lib\\site-packages (from ipython>=5.3.0->cufflinks) (0.1.6)\n",
      "Requirement already satisfied: prompt-toolkit!=3.0.0,!=3.0.1,<3.1.0,>=2.0.0 in c:\\users\\gaurang\\anaconda3\\lib\\site-packages (from ipython>=5.3.0->cufflinks) (3.0.20)\n",
      "Requirement already satisfied: traitlets>=4.2 in c:\\users\\gaurang\\anaconda3\\lib\\site-packages (from ipython>=5.3.0->cufflinks) (5.1.1)\n",
      "Requirement already satisfied: decorator in c:\\users\\gaurang\\anaconda3\\lib\\site-packages (from ipython>=5.3.0->cufflinks) (5.1.1)\n",
      "Requirement already satisfied: pickleshare in c:\\users\\gaurang\\anaconda3\\lib\\site-packages (from ipython>=5.3.0->cufflinks) (0.7.5)\n",
      "Requirement already satisfied: widgetsnbextension~=3.5.0 in c:\\users\\gaurang\\anaconda3\\lib\\site-packages (from ipywidgets>=7.0.0->cufflinks) (3.5.2)\n",
      "Requirement already satisfied: nbformat>=4.2.0 in c:\\users\\gaurang\\anaconda3\\lib\\site-packages (from ipywidgets>=7.0.0->cufflinks) (5.5.0)\n",
      "Requirement already satisfied: jupyterlab-widgets>=1.0.0 in c:\\users\\gaurang\\anaconda3\\lib\\site-packages (from ipywidgets>=7.0.0->cufflinks) (1.0.0)\n",
      "Requirement already satisfied: ipykernel>=4.5.1 in c:\\users\\gaurang\\anaconda3\\lib\\site-packages (from ipywidgets>=7.0.0->cufflinks) (6.15.2)\n",
      "Requirement already satisfied: ipython-genutils~=0.2.0 in c:\\users\\gaurang\\anaconda3\\lib\\site-packages (from ipywidgets>=7.0.0->cufflinks) (0.2.0)\n",
      "Requirement already satisfied: python-dateutil>=2.8.1 in c:\\users\\gaurang\\anaconda3\\lib\\site-packages (from pandas>=0.19.2->cufflinks) (2.8.2)\n",
      "Requirement already satisfied: pytz>=2020.1 in c:\\users\\gaurang\\anaconda3\\lib\\site-packages (from pandas>=0.19.2->cufflinks) (2022.1)\n",
      "Requirement already satisfied: tenacity>=6.2.0 in c:\\users\\gaurang\\anaconda3\\lib\\site-packages (from plotly>=4.1.1->cufflinks) (8.0.1)\n",
      "Requirement already satisfied: pyzmq>=17 in c:\\users\\gaurang\\anaconda3\\lib\\site-packages (from ipykernel>=4.5.1->ipywidgets>=7.0.0->cufflinks) (23.2.0)\n",
      "Requirement already satisfied: psutil in c:\\users\\gaurang\\anaconda3\\lib\\site-packages (from ipykernel>=4.5.1->ipywidgets>=7.0.0->cufflinks) (5.9.0)\n",
      "Requirement already satisfied: tornado>=6.1 in c:\\users\\gaurang\\anaconda3\\lib\\site-packages (from ipykernel>=4.5.1->ipywidgets>=7.0.0->cufflinks) (6.1)\n",
      "Requirement already satisfied: packaging in c:\\users\\gaurang\\anaconda3\\lib\\site-packages (from ipykernel>=4.5.1->ipywidgets>=7.0.0->cufflinks) (21.3)\n",
      "Requirement already satisfied: jupyter-client>=6.1.12 in c:\\users\\gaurang\\anaconda3\\lib\\site-packages (from ipykernel>=4.5.1->ipywidgets>=7.0.0->cufflinks) (7.3.4)\n",
      "Requirement already satisfied: debugpy>=1.0 in c:\\users\\gaurang\\anaconda3\\lib\\site-packages (from ipykernel>=4.5.1->ipywidgets>=7.0.0->cufflinks) (1.5.1)\n",
      "Requirement already satisfied: nest-asyncio in c:\\users\\gaurang\\anaconda3\\lib\\site-packages (from ipykernel>=4.5.1->ipywidgets>=7.0.0->cufflinks) (1.5.5)\n",
      "Requirement already satisfied: parso<0.9.0,>=0.8.0 in c:\\users\\gaurang\\anaconda3\\lib\\site-packages (from jedi>=0.16->ipython>=5.3.0->cufflinks) (0.8.3)\n",
      "Requirement already satisfied: jupyter_core in c:\\users\\gaurang\\anaconda3\\lib\\site-packages (from nbformat>=4.2.0->ipywidgets>=7.0.0->cufflinks) (4.11.1)\n",
      "Requirement already satisfied: fastjsonschema in c:\\users\\gaurang\\anaconda3\\lib\\site-packages (from nbformat>=4.2.0->ipywidgets>=7.0.0->cufflinks) (2.16.2)\n",
      "Requirement already satisfied: jsonschema>=2.6 in c:\\users\\gaurang\\anaconda3\\lib\\site-packages (from nbformat>=4.2.0->ipywidgets>=7.0.0->cufflinks) (4.16.0)\n",
      "Requirement already satisfied: wcwidth in c:\\users\\gaurang\\anaconda3\\lib\\site-packages (from prompt-toolkit!=3.0.0,!=3.0.1,<3.1.0,>=2.0.0->ipython>=5.3.0->cufflinks) (0.2.5)\n",
      "Requirement already satisfied: notebook>=4.4.1 in c:\\users\\gaurang\\anaconda3\\lib\\site-packages (from widgetsnbextension~=3.5.0->ipywidgets>=7.0.0->cufflinks) (6.4.12)\n",
      "Requirement already satisfied: attrs>=17.4.0 in c:\\users\\gaurang\\anaconda3\\lib\\site-packages (from jsonschema>=2.6->nbformat>=4.2.0->ipywidgets>=7.0.0->cufflinks) (21.4.0)\n",
      "Requirement already satisfied: pyrsistent!=0.17.0,!=0.17.1,!=0.17.2,>=0.14.0 in c:\\users\\gaurang\\anaconda3\\lib\\site-packages (from jsonschema>=2.6->nbformat>=4.2.0->ipywidgets>=7.0.0->cufflinks) (0.18.0)\n",
      "Requirement already satisfied: entrypoints in c:\\users\\gaurang\\anaconda3\\lib\\site-packages (from jupyter-client>=6.1.12->ipykernel>=4.5.1->ipywidgets>=7.0.0->cufflinks) (0.4)\n",
      "Requirement already satisfied: pywin32>=1.0 in c:\\users\\gaurang\\anaconda3\\lib\\site-packages (from jupyter_core->nbformat>=4.2.0->ipywidgets>=7.0.0->cufflinks) (302)\n",
      "Requirement already satisfied: jinja2 in c:\\users\\gaurang\\anaconda3\\lib\\site-packages (from notebook>=4.4.1->widgetsnbextension~=3.5.0->ipywidgets>=7.0.0->cufflinks) (2.11.3)\n",
      "Requirement already satisfied: prometheus-client in c:\\users\\gaurang\\anaconda3\\lib\\site-packages (from notebook>=4.4.1->widgetsnbextension~=3.5.0->ipywidgets>=7.0.0->cufflinks) (0.14.1)\n",
      "Requirement already satisfied: nbconvert>=5 in c:\\users\\gaurang\\anaconda3\\lib\\site-packages (from notebook>=4.4.1->widgetsnbextension~=3.5.0->ipywidgets>=7.0.0->cufflinks) (6.4.4)\n",
      "Requirement already satisfied: Send2Trash>=1.8.0 in c:\\users\\gaurang\\anaconda3\\lib\\site-packages (from notebook>=4.4.1->widgetsnbextension~=3.5.0->ipywidgets>=7.0.0->cufflinks) (1.8.0)\n",
      "Requirement already satisfied: terminado>=0.8.3 in c:\\users\\gaurang\\anaconda3\\lib\\site-packages (from notebook>=4.4.1->widgetsnbextension~=3.5.0->ipywidgets>=7.0.0->cufflinks) (0.13.1)\n",
      "Requirement already satisfied: argon2-cffi in c:\\users\\gaurang\\anaconda3\\lib\\site-packages (from notebook>=4.4.1->widgetsnbextension~=3.5.0->ipywidgets>=7.0.0->cufflinks) (21.3.0)\n",
      "Requirement already satisfied: pyparsing!=3.0.5,>=2.0.2 in c:\\users\\gaurang\\anaconda3\\lib\\site-packages (from packaging->ipykernel>=4.5.1->ipywidgets>=7.0.0->cufflinks) (3.0.9)\n",
      "Requirement already satisfied: jupyterlab-pygments in c:\\users\\gaurang\\anaconda3\\lib\\site-packages (from nbconvert>=5->notebook>=4.4.1->widgetsnbextension~=3.5.0->ipywidgets>=7.0.0->cufflinks) (0.1.2)\n",
      "Requirement already satisfied: pandocfilters>=1.4.1 in c:\\users\\gaurang\\anaconda3\\lib\\site-packages (from nbconvert>=5->notebook>=4.4.1->widgetsnbextension~=3.5.0->ipywidgets>=7.0.0->cufflinks) (1.5.0)\n",
      "Requirement already satisfied: testpath in c:\\users\\gaurang\\anaconda3\\lib\\site-packages (from nbconvert>=5->notebook>=4.4.1->widgetsnbextension~=3.5.0->ipywidgets>=7.0.0->cufflinks) (0.6.0)\n",
      "Requirement already satisfied: defusedxml in c:\\users\\gaurang\\anaconda3\\lib\\site-packages (from nbconvert>=5->notebook>=4.4.1->widgetsnbextension~=3.5.0->ipywidgets>=7.0.0->cufflinks) (0.7.1)\n",
      "Requirement already satisfied: mistune<2,>=0.8.1 in c:\\users\\gaurang\\anaconda3\\lib\\site-packages (from nbconvert>=5->notebook>=4.4.1->widgetsnbextension~=3.5.0->ipywidgets>=7.0.0->cufflinks) (0.8.4)\n",
      "Requirement already satisfied: beautifulsoup4 in c:\\users\\gaurang\\anaconda3\\lib\\site-packages (from nbconvert>=5->notebook>=4.4.1->widgetsnbextension~=3.5.0->ipywidgets>=7.0.0->cufflinks) (4.11.1)\n",
      "Requirement already satisfied: bleach in c:\\users\\gaurang\\anaconda3\\lib\\site-packages (from nbconvert>=5->notebook>=4.4.1->widgetsnbextension~=3.5.0->ipywidgets>=7.0.0->cufflinks) (4.1.0)\n",
      "Requirement already satisfied: nbclient<0.6.0,>=0.5.0 in c:\\users\\gaurang\\anaconda3\\lib\\site-packages (from nbconvert>=5->notebook>=4.4.1->widgetsnbextension~=3.5.0->ipywidgets>=7.0.0->cufflinks) (0.5.13)\n",
      "Requirement already satisfied: MarkupSafe>=0.23 in c:\\users\\gaurang\\anaconda3\\lib\\site-packages (from jinja2->notebook>=4.4.1->widgetsnbextension~=3.5.0->ipywidgets>=7.0.0->cufflinks) (2.0.1)\n",
      "Requirement already satisfied: pywinpty>=1.1.0 in c:\\users\\gaurang\\anaconda3\\lib\\site-packages (from terminado>=0.8.3->notebook>=4.4.1->widgetsnbextension~=3.5.0->ipywidgets>=7.0.0->cufflinks) (2.0.2)\n",
      "Requirement already satisfied: argon2-cffi-bindings in c:\\users\\gaurang\\anaconda3\\lib\\site-packages (from argon2-cffi->notebook>=4.4.1->widgetsnbextension~=3.5.0->ipywidgets>=7.0.0->cufflinks) (21.2.0)\n",
      "Requirement already satisfied: cffi>=1.0.1 in c:\\users\\gaurang\\anaconda3\\lib\\site-packages (from argon2-cffi-bindings->argon2-cffi->notebook>=4.4.1->widgetsnbextension~=3.5.0->ipywidgets>=7.0.0->cufflinks) (1.15.1)\n",
      "Requirement already satisfied: soupsieve>1.2 in c:\\users\\gaurang\\anaconda3\\lib\\site-packages (from beautifulsoup4->nbconvert>=5->notebook>=4.4.1->widgetsnbextension~=3.5.0->ipywidgets>=7.0.0->cufflinks) (2.3.1)\n",
      "Requirement already satisfied: webencodings in c:\\users\\gaurang\\anaconda3\\lib\\site-packages (from bleach->nbconvert>=5->notebook>=4.4.1->widgetsnbextension~=3.5.0->ipywidgets>=7.0.0->cufflinks) (0.5.1)\n",
      "Requirement already satisfied: pycparser in c:\\users\\gaurang\\anaconda3\\lib\\site-packages (from cffi>=1.0.1->argon2-cffi-bindings->argon2-cffi->notebook>=4.4.1->widgetsnbextension~=3.5.0->ipywidgets>=7.0.0->cufflinks) (2.21)\n"
     ]
    },
    {
     "name": "stdout",
     "output_type": "stream",
     "text": [
      "Requirement already satisfied: kaleido in c:\\users\\gaurang\\anaconda3\\lib\\site-packages (0.2.1)\n",
      "Requirement already satisfied: pvlib in c:\\users\\gaurang\\anaconda3\\lib\\site-packages (0.9.3)\n",
      "Requirement already satisfied: scipy>=1.2.0 in c:\\users\\gaurang\\anaconda3\\lib\\site-packages (from pvlib) (1.9.1)\n",
      "Requirement already satisfied: h5py in c:\\users\\gaurang\\anaconda3\\lib\\site-packages (from pvlib) (3.7.0)\n",
      "Requirement already satisfied: pytz in c:\\users\\gaurang\\anaconda3\\lib\\site-packages (from pvlib) (2022.1)\n",
      "Requirement already satisfied: numpy>=1.16.0 in c:\\users\\gaurang\\anaconda3\\lib\\site-packages (from pvlib) (1.21.5)\n",
      "Requirement already satisfied: requests in c:\\users\\gaurang\\anaconda3\\lib\\site-packages (from pvlib) (2.28.1)\n",
      "Requirement already satisfied: pandas>=0.25.0 in c:\\users\\gaurang\\anaconda3\\lib\\site-packages (from pvlib) (1.4.4)\n",
      "Requirement already satisfied: python-dateutil>=2.8.1 in c:\\users\\gaurang\\anaconda3\\lib\\site-packages (from pandas>=0.25.0->pvlib) (2.8.2)\n",
      "Requirement already satisfied: urllib3<1.27,>=1.21.1 in c:\\users\\gaurang\\anaconda3\\lib\\site-packages (from requests->pvlib) (1.26.11)\n",
      "Requirement already satisfied: certifi>=2017.4.17 in c:\\users\\gaurang\\anaconda3\\lib\\site-packages (from requests->pvlib) (2022.9.14)\n",
      "Requirement already satisfied: idna<4,>=2.5 in c:\\users\\gaurang\\anaconda3\\lib\\site-packages (from requests->pvlib) (3.3)\n",
      "Requirement already satisfied: charset-normalizer<3,>=2 in c:\\users\\gaurang\\anaconda3\\lib\\site-packages (from requests->pvlib) (2.0.4)\n",
      "Requirement already satisfied: six>=1.5 in c:\\users\\gaurang\\anaconda3\\lib\\site-packages (from python-dateutil>=2.8.1->pandas>=0.25.0->pvlib) (1.16.0)\n"
     ]
    }
   ],
   "source": [
    "!pip install chart_studio\n",
    "!pip install cufflinks\n",
    "!pip install -U kaleido\n",
    "!pip install pvlib"
   ]
  },
  {
   "cell_type": "code",
   "execution_count": 2,
   "id": "046f22e7",
   "metadata": {},
   "outputs": [],
   "source": [
    "import pvlib\n",
    "from pvlib.modelchain import ModelChain\n",
    "from pvlib.location import Location\n",
    "from pvlib.pvsystem import PVSystem\n",
    "from pvlib.temperature import TEMPERATURE_MODEL_PARAMETERS\n",
    "import pandas as pd\n",
    "import matplotlib.pyplot as plt\n",
    "import plotly.graph_objects as go\n",
    "import plotly.io as pio\n",
    "%matplotlib inline"
   ]
  },
  {
   "cell_type": "code",
   "execution_count": 3,
   "id": "798b9a3c",
   "metadata": {},
   "outputs": [],
   "source": [
    "buil_20_global=pd.read_csv('Building_20_global.csv',skiprows=8,nrows=8784,\n",
    "                     index_col=0)"
   ]
  },
  {
   "cell_type": "code",
   "execution_count": 4,
   "id": "81b8e5e6",
   "metadata": {},
   "outputs": [],
   "source": [
    "buil_20_components=pd.read_csv('Building_20_components.csv',skiprows=8,nrows=8784,\n",
    "                     index_col=0)"
   ]
  },
  {
   "cell_type": "code",
   "execution_count": 5,
   "id": "923fa425",
   "metadata": {},
   "outputs": [
    {
     "ename": "NameError",
     "evalue": "name 'buil_19_global' is not defined",
     "output_type": "error",
     "traceback": [
      "\u001b[1;31m---------------------------------------------------------------------------\u001b[0m",
      "\u001b[1;31mNameError\u001b[0m                                 Traceback (most recent call last)",
      "\u001b[1;32m~\\AppData\\Local\\Temp\\ipykernel_10044\\1029043804.py\u001b[0m in \u001b[0;36m<module>\u001b[1;34m\u001b[0m\n\u001b[0;32m      1\u001b[0m poa_buil_20=pd.DataFrame(columns=['poa_global','poa_direct','poa_diffuse','temp_air','wind_speed'],\n\u001b[1;32m----> 2\u001b[1;33m                        index=buil_19_global.index)\n\u001b[0m",
      "\u001b[1;31mNameError\u001b[0m: name 'buil_19_global' is not defined"
     ]
    }
   ],
   "source": [
    "poa_buil_20=pd.DataFrame(columns=['poa_global','poa_direct','poa_diffuse','temp_air','wind_speed'],\n",
    "                       index=buil_19_global.index)"
   ]
  },
  {
   "cell_type": "code",
   "execution_count": null,
   "id": "29e909a0",
   "metadata": {},
   "outputs": [],
   "source": [
    "poa_buil_20['poa_global']=buil_20_global['G(i)']\n",
    "poa_buil_20['poa_direct']=buil_20_components['Gb(i)']\n",
    "poa_buil_20['poa_diffuse']=buil_20_components['Gd(i)']+buil_20_components['Gr(i)']\n",
    "poa_buil_20['temp_air']=buil_20_components['T2m']\n",
    "poa_buil_20['wind_speed']=buil_20_components['WS10m']"
   ]
  },
  {
   "cell_type": "code",
   "execution_count": null,
   "id": "c8d66281",
   "metadata": {},
   "outputs": [],
   "source": [
    "poa_buil_20.index=pd.to_datetime(poa_buil_20.index,format='%Y%m%d:%H%M')"
   ]
  },
  {
   "cell_type": "code",
   "execution_count": null,
   "id": "5b219f41",
   "metadata": {},
   "outputs": [],
   "source": [
    "location=Location(latitude=51.4984,\n",
    "                  longitude=10.7931,\n",
    "                  tz='Europe/Berlin',\n",
    "                  altitude=202,\n",
    "                  name='Building 19')"
   ]
  },
  {
   "cell_type": "code",
   "execution_count": null,
   "id": "1bae2ddc",
   "metadata": {},
   "outputs": [],
   "source": [
    "cec=pvlib.pvsystem.retrieve_sam('CECmod')\n",
    "cec_inverters=pvlib.pvsystem.retrieve_sam('CECInverter')"
   ]
  },
  {
   "cell_type": "code",
   "execution_count": null,
   "id": "afe9722f",
   "metadata": {},
   "outputs": [],
   "source": [
    "module=cec['Hanwha_Q_CELLS_Q_PEAK_L_G4_2_370']\n",
    "inverter=cec_inverters['Advanced_Energy_Industries__AE_35TX_208__208V_']\n",
    "temperature_parameters=TEMPERATURE_MODEL_PARAMETERS['sapm']['open_rack_glass_glass']"
   ]
  },
  {
   "cell_type": "code",
   "execution_count": null,
   "id": "e5419afe",
   "metadata": {},
   "outputs": [],
   "source": [
    "cec['Hanwha_Q_CELLS_Q_PEAK_L_G4_2_370']"
   ]
  },
  {
   "cell_type": "code",
   "execution_count": null,
   "id": "673981bc",
   "metadata": {},
   "outputs": [],
   "source": [
    "cec_inverters['Advanced_Energy_Industries__AE_35TX_208__208V_']"
   ]
  },
  {
   "cell_type": "code",
   "execution_count": null,
   "id": "99c0a805",
   "metadata": {},
   "outputs": [],
   "source": [
    "system=PVSystem(surface_tilt=30,surface_azimuth=193,\n",
    "                module_parameters=module,\n",
    "                inverter_parameters=inverter,\n",
    "                temperature_model_parameters=temperature_parameters,\n",
    "                modules_per_string=10,strings_per_inverter=9)"
   ]
  },
  {
   "cell_type": "code",
   "execution_count": null,
   "id": "87d27225",
   "metadata": {},
   "outputs": [],
   "source": [
    "modelchain=ModelChain(system,location,aoi_model=\"physical\",spectral_model=\"no_loss\")\n",
    "modelchain"
   ]
  },
  {
   "cell_type": "code",
   "execution_count": null,
   "id": "6ffc3dbb",
   "metadata": {},
   "outputs": [],
   "source": [
    "modelchain.run_model_from_poa(poa_buil_20)\n",
    "modelchain.results.ac.plot(figsize=(16,9))"
   ]
  },
  {
   "cell_type": "code",
   "execution_count": null,
   "id": "c8bb3ecc",
   "metadata": {},
   "outputs": [],
   "source": [
    "a=modelchain.results.ac.resample('M').sum()"
   ]
  },
  {
   "cell_type": "code",
   "execution_count": null,
   "id": "be2875c6",
   "metadata": {},
   "outputs": [],
   "source": [
    "en=pd.DataFrame({'inverter1':a\n",
    "                 })"
   ]
  },
  {
   "cell_type": "code",
   "execution_count": null,
   "id": "69536ebc",
   "metadata": {},
   "outputs": [],
   "source": [
    "en['inverter1'].sum()"
   ]
  },
  {
   "cell_type": "code",
   "execution_count": null,
   "id": "1733da9e",
   "metadata": {},
   "outputs": [],
   "source": [
    "T='Times New Roman'\n",
    "A='Arial'\n",
    "hsn_blue='rgb(0,89,158)'\n",
    "hsn_bluem='rgb(15,147,250)'\n",
    "hsn_blueb='rgb(45,158,247)'\n",
    "hsn_blueg='rgb(53,107,150)'\n",
    "hsn_bluebl='rgb(9,47,77)'\n",
    "hsn_green='rgb(103,189,0)'\n",
    "hsn_greenb='rgb(144,252,15)'\n",
    "hsn_greeng='rgb(120,163,69)'\n",
    "hsn_greenl='rgb(193,240,137)'\n",
    "hsn_greenbl='rgb(43,74,7)'\n",
    "hsn_grey = 'rgb(97,98,99)'\n",
    "hsn_greym= 'rgb(210,210,212)'\n",
    "hsn_greyl= 'rgb(227,228,230)'"
   ]
  },
  {
   "cell_type": "code",
   "execution_count": null,
   "id": "d16f9d15",
   "metadata": {},
   "outputs": [],
   "source": [
    "en['Months']=['Jan','Feb','Mar','Apr','May','Jun','Jul','Aug','Sep','Oct','Nov','Dec']"
   ]
  },
  {
   "cell_type": "code",
   "execution_count": null,
   "id": "2ef06ce1",
   "metadata": {},
   "outputs": [],
   "source": [
    "en['inverter1'].sum()"
   ]
  },
  {
   "cell_type": "code",
   "execution_count": null,
   "id": "4cf5bb31",
   "metadata": {},
   "outputs": [],
   "source": [
    "trace1=go.Bar(\n",
    "        x=en['Months'],\n",
    "        y=en['inverter1'],\n",
    "        text=en['inverter1'],\n",
    "        #textposition='auto',\n",
    "        name='Energy distribution across the year',\n",
    "        marker_color=hsn_bluebl)\n"
   ]
  },
  {
   "cell_type": "code",
   "execution_count": null,
   "id": "dd145d2a",
   "metadata": {},
   "outputs": [],
   "source": [
    "data = [trace1]\n",
    "fig = go.Figure(data = data)\n",
    "fig.update_traces(texttemplate='%{text:.4s}',textposition='inside', opacity=1,\n",
    "                  textfont=dict(family=A,size=18,color='white'))\n",
    "fig.update_layout(uniformtext_minsize=20)\n",
    "#fig.update_layout(xaxis_tickangle=45)\n",
    "fig.update_layout(title='Energy yield of Building 20',\n",
    "                  title_x=0.5,\n",
    "                  yaxis_title='Energy in mega Watt hour',font=dict(size=18),\n",
    "                 legend=dict(\n",
    "    #itemwidth=30,\n",
    "    orientation='h',\n",
    "    yanchor=\"middle\",\n",
    "    y=-0.3,\n",
    "    xanchor=\"center\",\n",
    "    x=0.5,\n",
    "    title_font_family=A,\n",
    "    font=dict(\n",
    "    family=A,\n",
    "    size=10,\n",
    "    color=hsn_blue),\n",
    "    bgcolor=hsn_greyl,\n",
    "    bordercolor=hsn_blue,\n",
    "    valign='bottom',\n",
    "    tracegroupgap=10,\n",
    "    borderwidth=1,),\n",
    "    font_family=A,\n",
    "    font_color=hsn_blue,\n",
    "    title_font_family=A,\n",
    "    title_font_color=hsn_blue,\n",
    "    legend_tracegroupgap=500,\n",
    "                    \n",
    ")\n",
    "fig.update_xaxes(title_font_family=A)\n",
    "fig.update_layout(\n",
    "xaxis=dict(\n",
    "showline=True,showgrid=False,showticklabels=True,\n",
    "linecolor=hsn_blue,\n",
    "title_text=\"Month\",\n",
    "title_standoff = 10,\n",
    "linewidth=3,ticks='outside',tickfont=dict(\n",
    "family=A,size=15,color=hsn_blue))\n",
    ",\n",
    "yaxis=dict(\n",
    "showline=True,showgrid=False,showticklabels=True,\n",
    "linecolor=hsn_blue,\n",
    "ticklabelposition=\"outside\",\n",
    "linewidth=2,ticks='outside',tickfont=dict(\n",
    "family=A,size=15,color=hsn_blue)\n",
    "),autosize=True,margin=dict(\n",
    "autoexpand=True,l=50,r=50,b=100,t=100,pad=0),\n",
    "showlegend=False,paper_bgcolor=hsn_greyl,\n",
    "    plot_bgcolor=hsn_greym)\n",
    "fig.show()\n",
    "pio.write_image(fig, 'energy_yield_of_Building_20.png',scale=6, width=1080, height=650)"
   ]
  },
  {
   "cell_type": "code",
   "execution_count": null,
   "id": "d0f51355",
   "metadata": {},
   "outputs": [],
   "source": [
    " "
   ]
  }
 ],
 "metadata": {
  "kernelspec": {
   "display_name": "Python 3 (ipykernel)",
   "language": "python",
   "name": "python3"
  },
  "language_info": {
   "codemirror_mode": {
    "name": "ipython",
    "version": 3
   },
   "file_extension": ".py",
   "mimetype": "text/x-python",
   "name": "python",
   "nbconvert_exporter": "python",
   "pygments_lexer": "ipython3",
   "version": "3.9.13"
  }
 },
 "nbformat": 4,
 "nbformat_minor": 5
}
