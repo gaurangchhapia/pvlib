{
 "cells": [
  {
   "cell_type": "code",
   "execution_count": 1,
   "id": "bb81658b",
   "metadata": {},
   "outputs": [
    {
     "name": "stdout",
     "output_type": "stream",
     "text": [
      "Requirement already satisfied: pvlib in c:\\users\\gaurang\\anaconda3\\lib\\site-packages (0.9.3)\n",
      "Requirement already satisfied: pandas>=0.25.0 in c:\\users\\gaurang\\anaconda3\\lib\\site-packages (from pvlib) (1.4.4)\n",
      "Requirement already satisfied: numpy>=1.16.0 in c:\\users\\gaurang\\anaconda3\\lib\\site-packages (from pvlib) (1.21.5)\n",
      "Requirement already satisfied: requests in c:\\users\\gaurang\\anaconda3\\lib\\site-packages (from pvlib) (2.28.1)\n",
      "Requirement already satisfied: pytz in c:\\users\\gaurang\\anaconda3\\lib\\site-packages (from pvlib) (2022.1)\n",
      "Requirement already satisfied: h5py in c:\\users\\gaurang\\anaconda3\\lib\\site-packages (from pvlib) (3.7.0)\n",
      "Requirement already satisfied: scipy>=1.2.0 in c:\\users\\gaurang\\anaconda3\\lib\\site-packages (from pvlib) (1.9.1)\n",
      "Requirement already satisfied: python-dateutil>=2.8.1 in c:\\users\\gaurang\\anaconda3\\lib\\site-packages (from pandas>=0.25.0->pvlib) (2.8.2)\n",
      "Requirement already satisfied: charset-normalizer<3,>=2 in c:\\users\\gaurang\\anaconda3\\lib\\site-packages (from requests->pvlib) (2.0.4)\n",
      "Requirement already satisfied: certifi>=2017.4.17 in c:\\users\\gaurang\\anaconda3\\lib\\site-packages (from requests->pvlib) (2022.9.14)\n",
      "Requirement already satisfied: urllib3<1.27,>=1.21.1 in c:\\users\\gaurang\\anaconda3\\lib\\site-packages (from requests->pvlib) (1.26.11)\n",
      "Requirement already satisfied: idna<4,>=2.5 in c:\\users\\gaurang\\anaconda3\\lib\\site-packages (from requests->pvlib) (3.3)\n",
      "Requirement already satisfied: six>=1.5 in c:\\users\\gaurang\\anaconda3\\lib\\site-packages (from python-dateutil>=2.8.1->pandas>=0.25.0->pvlib) (1.16.0)\n"
     ]
    }
   ],
   "source": [
    "!pip install pvlib"
   ]
  },
  {
   "cell_type": "code",
   "execution_count": 2,
   "id": "36bd2ce0",
   "metadata": {},
   "outputs": [],
   "source": [
    "import pvlib\n",
    "from pvlib.modelchain import ModelChain\n",
    "from pvlib.location import Location\n",
    "from pvlib.pvsystem import PVSystem\n",
    "from pvlib.temperature import TEMPERATURE_MODEL_PARAMETERS\n",
    "import pandas as pd\n",
    "import matplotlib.pyplot as plt\n",
    "%matplotlib inline"
   ]
  },
  {
   "cell_type": "code",
   "execution_count": 10,
   "id": "de7a3c9d",
   "metadata": {},
   "outputs": [],
   "source": [
    "global_25=pd.read_csv('pvgis_building_25_2020_global.csv',skiprows=8,nrows=8784,\n",
    "                     index_col=0)"
   ]
  },
  {
   "cell_type": "code",
   "execution_count": 9,
   "id": "246c9c9a",
   "metadata": {},
   "outputs": [
    {
     "data": {
      "text/html": [
       "<div>\n",
       "<style scoped>\n",
       "    .dataframe tbody tr th:only-of-type {\n",
       "        vertical-align: middle;\n",
       "    }\n",
       "\n",
       "    .dataframe tbody tr th {\n",
       "        vertical-align: top;\n",
       "    }\n",
       "\n",
       "    .dataframe thead th {\n",
       "        text-align: right;\n",
       "    }\n",
       "</style>\n",
       "<table border=\"1\" class=\"dataframe\">\n",
       "  <thead>\n",
       "    <tr style=\"text-align: right;\">\n",
       "      <th></th>\n",
       "      <th>time</th>\n",
       "      <th>G(i)</th>\n",
       "      <th>H_sun</th>\n",
       "      <th>T2m</th>\n",
       "      <th>WS10m</th>\n",
       "      <th>Int</th>\n",
       "    </tr>\n",
       "  </thead>\n",
       "  <tbody>\n",
       "    <tr>\n",
       "      <th>0</th>\n",
       "      <td>20200101:0010</td>\n",
       "      <td>0.0</td>\n",
       "      <td>0.0</td>\n",
       "      <td>0.52</td>\n",
       "      <td>1.86</td>\n",
       "      <td>0.0</td>\n",
       "    </tr>\n",
       "    <tr>\n",
       "      <th>1</th>\n",
       "      <td>20200101:0110</td>\n",
       "      <td>0.0</td>\n",
       "      <td>0.0</td>\n",
       "      <td>0.11</td>\n",
       "      <td>1.86</td>\n",
       "      <td>0.0</td>\n",
       "    </tr>\n",
       "    <tr>\n",
       "      <th>2</th>\n",
       "      <td>20200101:0210</td>\n",
       "      <td>0.0</td>\n",
       "      <td>0.0</td>\n",
       "      <td>-0.18</td>\n",
       "      <td>1.66</td>\n",
       "      <td>0.0</td>\n",
       "    </tr>\n",
       "    <tr>\n",
       "      <th>3</th>\n",
       "      <td>20200101:0310</td>\n",
       "      <td>0.0</td>\n",
       "      <td>0.0</td>\n",
       "      <td>-0.60</td>\n",
       "      <td>1.59</td>\n",
       "      <td>0.0</td>\n",
       "    </tr>\n",
       "    <tr>\n",
       "      <th>4</th>\n",
       "      <td>20200101:0410</td>\n",
       "      <td>0.0</td>\n",
       "      <td>0.0</td>\n",
       "      <td>-1.00</td>\n",
       "      <td>1.45</td>\n",
       "      <td>0.0</td>\n",
       "    </tr>\n",
       "    <tr>\n",
       "      <th>...</th>\n",
       "      <td>...</td>\n",
       "      <td>...</td>\n",
       "      <td>...</td>\n",
       "      <td>...</td>\n",
       "      <td>...</td>\n",
       "      <td>...</td>\n",
       "    </tr>\n",
       "    <tr>\n",
       "      <th>8779</th>\n",
       "      <td>20201231:1910</td>\n",
       "      <td>0.0</td>\n",
       "      <td>0.0</td>\n",
       "      <td>0.63</td>\n",
       "      <td>1.38</td>\n",
       "      <td>0.0</td>\n",
       "    </tr>\n",
       "    <tr>\n",
       "      <th>8780</th>\n",
       "      <td>20201231:2010</td>\n",
       "      <td>0.0</td>\n",
       "      <td>0.0</td>\n",
       "      <td>0.62</td>\n",
       "      <td>1.10</td>\n",
       "      <td>0.0</td>\n",
       "    </tr>\n",
       "    <tr>\n",
       "      <th>8781</th>\n",
       "      <td>20201231:2110</td>\n",
       "      <td>0.0</td>\n",
       "      <td>0.0</td>\n",
       "      <td>0.57</td>\n",
       "      <td>0.90</td>\n",
       "      <td>0.0</td>\n",
       "    </tr>\n",
       "    <tr>\n",
       "      <th>8782</th>\n",
       "      <td>20201231:2210</td>\n",
       "      <td>0.0</td>\n",
       "      <td>0.0</td>\n",
       "      <td>0.29</td>\n",
       "      <td>0.90</td>\n",
       "      <td>0.0</td>\n",
       "    </tr>\n",
       "    <tr>\n",
       "      <th>8783</th>\n",
       "      <td>20201231:2310</td>\n",
       "      <td>0.0</td>\n",
       "      <td>0.0</td>\n",
       "      <td>0.11</td>\n",
       "      <td>0.83</td>\n",
       "      <td>0.0</td>\n",
       "    </tr>\n",
       "  </tbody>\n",
       "</table>\n",
       "<p>8784 rows × 6 columns</p>\n",
       "</div>"
      ],
      "text/plain": [
       "               time  G(i)  H_sun   T2m  WS10m  Int\n",
       "0     20200101:0010   0.0    0.0  0.52   1.86  0.0\n",
       "1     20200101:0110   0.0    0.0  0.11   1.86  0.0\n",
       "2     20200101:0210   0.0    0.0 -0.18   1.66  0.0\n",
       "3     20200101:0310   0.0    0.0 -0.60   1.59  0.0\n",
       "4     20200101:0410   0.0    0.0 -1.00   1.45  0.0\n",
       "...             ...   ...    ...   ...    ...  ...\n",
       "8779  20201231:1910   0.0    0.0  0.63   1.38  0.0\n",
       "8780  20201231:2010   0.0    0.0  0.62   1.10  0.0\n",
       "8781  20201231:2110   0.0    0.0  0.57   0.90  0.0\n",
       "8782  20201231:2210   0.0    0.0  0.29   0.90  0.0\n",
       "8783  20201231:2310   0.0    0.0  0.11   0.83  0.0\n",
       "\n",
       "[8784 rows x 6 columns]"
      ]
     },
     "execution_count": 9,
     "metadata": {},
     "output_type": "execute_result"
    }
   ],
   "source": [
    "global_25"
   ]
  },
  {
   "cell_type": "code",
   "execution_count": 11,
   "id": "d6b0ccfb",
   "metadata": {},
   "outputs": [],
   "source": [
    "components_25=pd.read_csv('pvgis_building_25_2020_components.csv',skiprows=8,nrows=8784,\n",
    "                         index_col=0)"
   ]
  },
  {
   "cell_type": "code",
   "execution_count": 12,
   "id": "ff9fd1bc",
   "metadata": {},
   "outputs": [
    {
     "data": {
      "text/html": [
       "<div>\n",
       "<style scoped>\n",
       "    .dataframe tbody tr th:only-of-type {\n",
       "        vertical-align: middle;\n",
       "    }\n",
       "\n",
       "    .dataframe tbody tr th {\n",
       "        vertical-align: top;\n",
       "    }\n",
       "\n",
       "    .dataframe thead th {\n",
       "        text-align: right;\n",
       "    }\n",
       "</style>\n",
       "<table border=\"1\" class=\"dataframe\">\n",
       "  <thead>\n",
       "    <tr style=\"text-align: right;\">\n",
       "      <th></th>\n",
       "      <th>Gb(i)</th>\n",
       "      <th>Gd(i)</th>\n",
       "      <th>Gr(i)</th>\n",
       "      <th>H_sun</th>\n",
       "      <th>T2m</th>\n",
       "      <th>WS10m</th>\n",
       "      <th>Int</th>\n",
       "    </tr>\n",
       "    <tr>\n",
       "      <th>time</th>\n",
       "      <th></th>\n",
       "      <th></th>\n",
       "      <th></th>\n",
       "      <th></th>\n",
       "      <th></th>\n",
       "      <th></th>\n",
       "      <th></th>\n",
       "    </tr>\n",
       "  </thead>\n",
       "  <tbody>\n",
       "    <tr>\n",
       "      <th>20200101:0010</th>\n",
       "      <td>0.0</td>\n",
       "      <td>0.0</td>\n",
       "      <td>0.0</td>\n",
       "      <td>0.0</td>\n",
       "      <td>0.52</td>\n",
       "      <td>1.86</td>\n",
       "      <td>0.0</td>\n",
       "    </tr>\n",
       "    <tr>\n",
       "      <th>20200101:0110</th>\n",
       "      <td>0.0</td>\n",
       "      <td>0.0</td>\n",
       "      <td>0.0</td>\n",
       "      <td>0.0</td>\n",
       "      <td>0.11</td>\n",
       "      <td>1.86</td>\n",
       "      <td>0.0</td>\n",
       "    </tr>\n",
       "    <tr>\n",
       "      <th>20200101:0210</th>\n",
       "      <td>0.0</td>\n",
       "      <td>0.0</td>\n",
       "      <td>0.0</td>\n",
       "      <td>0.0</td>\n",
       "      <td>-0.18</td>\n",
       "      <td>1.66</td>\n",
       "      <td>0.0</td>\n",
       "    </tr>\n",
       "    <tr>\n",
       "      <th>20200101:0310</th>\n",
       "      <td>0.0</td>\n",
       "      <td>0.0</td>\n",
       "      <td>0.0</td>\n",
       "      <td>0.0</td>\n",
       "      <td>-0.60</td>\n",
       "      <td>1.59</td>\n",
       "      <td>0.0</td>\n",
       "    </tr>\n",
       "    <tr>\n",
       "      <th>20200101:0410</th>\n",
       "      <td>0.0</td>\n",
       "      <td>0.0</td>\n",
       "      <td>0.0</td>\n",
       "      <td>0.0</td>\n",
       "      <td>-1.00</td>\n",
       "      <td>1.45</td>\n",
       "      <td>0.0</td>\n",
       "    </tr>\n",
       "    <tr>\n",
       "      <th>...</th>\n",
       "      <td>...</td>\n",
       "      <td>...</td>\n",
       "      <td>...</td>\n",
       "      <td>...</td>\n",
       "      <td>...</td>\n",
       "      <td>...</td>\n",
       "      <td>...</td>\n",
       "    </tr>\n",
       "    <tr>\n",
       "      <th>20201231:1910</th>\n",
       "      <td>0.0</td>\n",
       "      <td>0.0</td>\n",
       "      <td>0.0</td>\n",
       "      <td>0.0</td>\n",
       "      <td>0.63</td>\n",
       "      <td>1.38</td>\n",
       "      <td>0.0</td>\n",
       "    </tr>\n",
       "    <tr>\n",
       "      <th>20201231:2010</th>\n",
       "      <td>0.0</td>\n",
       "      <td>0.0</td>\n",
       "      <td>0.0</td>\n",
       "      <td>0.0</td>\n",
       "      <td>0.62</td>\n",
       "      <td>1.10</td>\n",
       "      <td>0.0</td>\n",
       "    </tr>\n",
       "    <tr>\n",
       "      <th>20201231:2110</th>\n",
       "      <td>0.0</td>\n",
       "      <td>0.0</td>\n",
       "      <td>0.0</td>\n",
       "      <td>0.0</td>\n",
       "      <td>0.57</td>\n",
       "      <td>0.90</td>\n",
       "      <td>0.0</td>\n",
       "    </tr>\n",
       "    <tr>\n",
       "      <th>20201231:2210</th>\n",
       "      <td>0.0</td>\n",
       "      <td>0.0</td>\n",
       "      <td>0.0</td>\n",
       "      <td>0.0</td>\n",
       "      <td>0.29</td>\n",
       "      <td>0.90</td>\n",
       "      <td>0.0</td>\n",
       "    </tr>\n",
       "    <tr>\n",
       "      <th>20201231:2310</th>\n",
       "      <td>0.0</td>\n",
       "      <td>0.0</td>\n",
       "      <td>0.0</td>\n",
       "      <td>0.0</td>\n",
       "      <td>0.11</td>\n",
       "      <td>0.83</td>\n",
       "      <td>0.0</td>\n",
       "    </tr>\n",
       "  </tbody>\n",
       "</table>\n",
       "<p>8784 rows × 7 columns</p>\n",
       "</div>"
      ],
      "text/plain": [
       "               Gb(i)  Gd(i)  Gr(i)  H_sun   T2m  WS10m  Int\n",
       "time                                                       \n",
       "20200101:0010    0.0    0.0    0.0    0.0  0.52   1.86  0.0\n",
       "20200101:0110    0.0    0.0    0.0    0.0  0.11   1.86  0.0\n",
       "20200101:0210    0.0    0.0    0.0    0.0 -0.18   1.66  0.0\n",
       "20200101:0310    0.0    0.0    0.0    0.0 -0.60   1.59  0.0\n",
       "20200101:0410    0.0    0.0    0.0    0.0 -1.00   1.45  0.0\n",
       "...              ...    ...    ...    ...   ...    ...  ...\n",
       "20201231:1910    0.0    0.0    0.0    0.0  0.63   1.38  0.0\n",
       "20201231:2010    0.0    0.0    0.0    0.0  0.62   1.10  0.0\n",
       "20201231:2110    0.0    0.0    0.0    0.0  0.57   0.90  0.0\n",
       "20201231:2210    0.0    0.0    0.0    0.0  0.29   0.90  0.0\n",
       "20201231:2310    0.0    0.0    0.0    0.0  0.11   0.83  0.0\n",
       "\n",
       "[8784 rows x 7 columns]"
      ]
     },
     "execution_count": 12,
     "metadata": {},
     "output_type": "execute_result"
    }
   ],
   "source": [
    "components_25"
   ]
  },
  {
   "cell_type": "code",
   "execution_count": 13,
   "id": "543c9966",
   "metadata": {},
   "outputs": [],
   "source": [
    "poa_data=pd.DataFrame(columns=['poa_global','poa_direct','poa_diffuse','temp_air','wind_speed'],\n",
    "                     index=global_25.index)"
   ]
  },
  {
   "cell_type": "code",
   "execution_count": 15,
   "id": "76f7d0e8",
   "metadata": {},
   "outputs": [],
   "source": [
    "poa_data['poa_global']=global_25['G(i)']\n",
    "poa_data['poa_direct']=components_25['Gb(i)']\n",
    "poa_data['poa_diffuse']=components_25['Gd(i)']+components_25['Gr(i)']\n",
    "poa_data['temp_air']=components_25['T2m']\n",
    "poa_data['wind_speed']=components_25['WS10m']"
   ]
  },
  {
   "cell_type": "code",
   "execution_count": 16,
   "id": "c0d51dea",
   "metadata": {},
   "outputs": [],
   "source": [
    "poa_data.index=pd.to_datetime(poa_data.index,format='%Y%m%d:%H%M')"
   ]
  },
  {
   "cell_type": "code",
   "execution_count": 17,
   "id": "33c5d6c1",
   "metadata": {},
   "outputs": [
    {
     "data": {
      "text/html": [
       "<div>\n",
       "<style scoped>\n",
       "    .dataframe tbody tr th:only-of-type {\n",
       "        vertical-align: middle;\n",
       "    }\n",
       "\n",
       "    .dataframe tbody tr th {\n",
       "        vertical-align: top;\n",
       "    }\n",
       "\n",
       "    .dataframe thead th {\n",
       "        text-align: right;\n",
       "    }\n",
       "</style>\n",
       "<table border=\"1\" class=\"dataframe\">\n",
       "  <thead>\n",
       "    <tr style=\"text-align: right;\">\n",
       "      <th></th>\n",
       "      <th>poa_global</th>\n",
       "      <th>poa_direct</th>\n",
       "      <th>poa_diffuse</th>\n",
       "      <th>temp_air</th>\n",
       "      <th>wind_speed</th>\n",
       "    </tr>\n",
       "    <tr>\n",
       "      <th>time</th>\n",
       "      <th></th>\n",
       "      <th></th>\n",
       "      <th></th>\n",
       "      <th></th>\n",
       "      <th></th>\n",
       "    </tr>\n",
       "  </thead>\n",
       "  <tbody>\n",
       "    <tr>\n",
       "      <th>2020-01-01 00:10:00</th>\n",
       "      <td>0.0</td>\n",
       "      <td>0.0</td>\n",
       "      <td>0.0</td>\n",
       "      <td>0.52</td>\n",
       "      <td>1.86</td>\n",
       "    </tr>\n",
       "    <tr>\n",
       "      <th>2020-01-01 01:10:00</th>\n",
       "      <td>0.0</td>\n",
       "      <td>0.0</td>\n",
       "      <td>0.0</td>\n",
       "      <td>0.11</td>\n",
       "      <td>1.86</td>\n",
       "    </tr>\n",
       "    <tr>\n",
       "      <th>2020-01-01 02:10:00</th>\n",
       "      <td>0.0</td>\n",
       "      <td>0.0</td>\n",
       "      <td>0.0</td>\n",
       "      <td>-0.18</td>\n",
       "      <td>1.66</td>\n",
       "    </tr>\n",
       "    <tr>\n",
       "      <th>2020-01-01 03:10:00</th>\n",
       "      <td>0.0</td>\n",
       "      <td>0.0</td>\n",
       "      <td>0.0</td>\n",
       "      <td>-0.60</td>\n",
       "      <td>1.59</td>\n",
       "    </tr>\n",
       "    <tr>\n",
       "      <th>2020-01-01 04:10:00</th>\n",
       "      <td>0.0</td>\n",
       "      <td>0.0</td>\n",
       "      <td>0.0</td>\n",
       "      <td>-1.00</td>\n",
       "      <td>1.45</td>\n",
       "    </tr>\n",
       "    <tr>\n",
       "      <th>...</th>\n",
       "      <td>...</td>\n",
       "      <td>...</td>\n",
       "      <td>...</td>\n",
       "      <td>...</td>\n",
       "      <td>...</td>\n",
       "    </tr>\n",
       "    <tr>\n",
       "      <th>2020-12-31 19:10:00</th>\n",
       "      <td>0.0</td>\n",
       "      <td>0.0</td>\n",
       "      <td>0.0</td>\n",
       "      <td>0.63</td>\n",
       "      <td>1.38</td>\n",
       "    </tr>\n",
       "    <tr>\n",
       "      <th>2020-12-31 20:10:00</th>\n",
       "      <td>0.0</td>\n",
       "      <td>0.0</td>\n",
       "      <td>0.0</td>\n",
       "      <td>0.62</td>\n",
       "      <td>1.10</td>\n",
       "    </tr>\n",
       "    <tr>\n",
       "      <th>2020-12-31 21:10:00</th>\n",
       "      <td>0.0</td>\n",
       "      <td>0.0</td>\n",
       "      <td>0.0</td>\n",
       "      <td>0.57</td>\n",
       "      <td>0.90</td>\n",
       "    </tr>\n",
       "    <tr>\n",
       "      <th>2020-12-31 22:10:00</th>\n",
       "      <td>0.0</td>\n",
       "      <td>0.0</td>\n",
       "      <td>0.0</td>\n",
       "      <td>0.29</td>\n",
       "      <td>0.90</td>\n",
       "    </tr>\n",
       "    <tr>\n",
       "      <th>2020-12-31 23:10:00</th>\n",
       "      <td>0.0</td>\n",
       "      <td>0.0</td>\n",
       "      <td>0.0</td>\n",
       "      <td>0.11</td>\n",
       "      <td>0.83</td>\n",
       "    </tr>\n",
       "  </tbody>\n",
       "</table>\n",
       "<p>8784 rows × 5 columns</p>\n",
       "</div>"
      ],
      "text/plain": [
       "                     poa_global  poa_direct  poa_diffuse  temp_air  wind_speed\n",
       "time                                                                          \n",
       "2020-01-01 00:10:00         0.0         0.0          0.0      0.52        1.86\n",
       "2020-01-01 01:10:00         0.0         0.0          0.0      0.11        1.86\n",
       "2020-01-01 02:10:00         0.0         0.0          0.0     -0.18        1.66\n",
       "2020-01-01 03:10:00         0.0         0.0          0.0     -0.60        1.59\n",
       "2020-01-01 04:10:00         0.0         0.0          0.0     -1.00        1.45\n",
       "...                         ...         ...          ...       ...         ...\n",
       "2020-12-31 19:10:00         0.0         0.0          0.0      0.63        1.38\n",
       "2020-12-31 20:10:00         0.0         0.0          0.0      0.62        1.10\n",
       "2020-12-31 21:10:00         0.0         0.0          0.0      0.57        0.90\n",
       "2020-12-31 22:10:00         0.0         0.0          0.0      0.29        0.90\n",
       "2020-12-31 23:10:00         0.0         0.0          0.0      0.11        0.83\n",
       "\n",
       "[8784 rows x 5 columns]"
      ]
     },
     "execution_count": 17,
     "metadata": {},
     "output_type": "execute_result"
    }
   ],
   "source": [
    "poa_data"
   ]
  },
  {
   "cell_type": "code",
   "execution_count": 21,
   "id": "05904ce8",
   "metadata": {},
   "outputs": [],
   "source": [
    "location=Location(latitude=50.94131211406903,longitude=6.958106642472238,tz='Europe/Berlin',altitude=80,name='Cologne Cathedral')"
   ]
  },
  {
   "cell_type": "code",
   "execution_count": 22,
   "id": "90d2992d",
   "metadata": {},
   "outputs": [],
   "source": [
    "sandia_modules=pvlib.pvsystem.retrieve_sam('SandiaMod')\n",
    "cec_inverters=pvlib.pvsystem.retrieve_sam('CECInverter')"
   ]
  },
  {
   "cell_type": "code",
   "execution_count": 23,
   "id": "be63abd4",
   "metadata": {},
   "outputs": [],
   "source": [
    "module=sandia_modules['Canadian_Solar_CS5P_220M___2009_']\n",
    "inverter=cec_inverters['ABB__PVI_3_0_OUTD_S_US_A__208V_']\n",
    "temperature_parameters=TEMPERATURE_MODEL_PARAMETERS['sapm']['open_rack_glass_glass']"
   ]
  },
  {
   "cell_type": "code",
   "execution_count": 54,
   "id": "e055063e",
   "metadata": {},
   "outputs": [],
   "source": [
    "system=PVSystem(surface_tilt=45,surface_azimuth=180,module_parameters=module,inverter_parameters=inverter,temperature_model_parameters=temperature_parameters,\n",
    "                modules_per_string=7,strings_per_inverter=2)\n",
    "system1=PVSystem(surface_tilt=30,surface_azimuth=180,module_parameters=module,inverter_parameters=inverter,temperature_model_parameters=temperature_parameters,\n",
    "                modules_per_string=7,strings_per_inverter=2)"
   ]
  },
  {
   "cell_type": "code",
   "execution_count": 55,
   "id": "7d8cdcea",
   "metadata": {},
   "outputs": [],
   "source": [
    "modelchain=ModelChain(system,location)\n",
    "modelchain1=ModelChain(system1,location)"
   ]
  },
  {
   "cell_type": "code",
   "execution_count": 56,
   "id": "65b615be",
   "metadata": {},
   "outputs": [
    {
     "data": {
      "text/plain": [
       "<AxesSubplot:xlabel='time'>"
      ]
     },
     "execution_count": 56,
     "metadata": {},
     "output_type": "execute_result"
    },
    {
     "data": {
      "image/png": "[encoded data removed]",
      "text/plain": [
       "<Figure size 1600x900 with 1 Axes>"
      ]
     },
     "metadata": {},
     "output_type": "display_data"
    }
   ],
   "source": [
    "modelchain.run_model_from_poa(poa_data)\n",
    "modelchain.results.ac.resample('M').sum().plot(kind='bar',figsize=(16,9))"
   ]
  },
  {
   "cell_type": "code",
   "execution_count": 57,
   "id": "9f5aad7c",
   "metadata": {},
   "outputs": [
    {
     "data": {
      "text/plain": [
       "<AxesSubplot:xlabel='time'>"
      ]
     },
     "execution_count": 57,
     "metadata": {},
     "output_type": "execute_result"
    },
    {
     "data": {
      "image/png": "[encoded data removed]",
      "text/plain": [
       "<Figure size 1600x900 with 1 Axes>"
      ]
     },
     "metadata": {},
     "output_type": "display_data"
    }
   ],
   "source": [
    "modelchain1.run_model_from_poa(poa_data)\n",
    "modelchain1.results.ac.resample('M').sum().plot(kind='bar',figsize=(16,9))"
   ]
  },
  {
   "cell_type": "code",
   "execution_count": 58,
   "id": "dd669236",
   "metadata": {},
   "outputs": [],
   "source": [
    "a=modelchain.results.ac.resample('M').sum()"
   ]
  },
  {
   "cell_type": "code",
   "execution_count": 59,
   "id": "036679de",
   "metadata": {},
   "outputs": [],
   "source": [
    "b=modelchain1.results.ac.resample('M').sum()"
   ]
  },
  {
   "cell_type": "code",
   "execution_count": 60,
   "id": "b59d073b",
   "metadata": {},
   "outputs": [],
   "source": [
    "energy=pd.DataFrame({'tilt_45':a,\n",
    "                     'tilt_30':b})"
   ]
  },
  {
   "cell_type": "code",
   "execution_count": null,
   "id": "d510d7e8",
   "metadata": {},
   "outputs": [],
   "source": []
  },
  {
   "cell_type": "code",
   "execution_count": 63,
   "id": "11029160",
   "metadata": {},
   "outputs": [
    {
     "data": {
      "text/plain": [
       "<AxesSubplot:xlabel='time'>"
      ]
     },
     "execution_count": 63,
     "metadata": {},
     "output_type": "execute_result"
    },
    {
     "data": {
      "image/png": "[encoded data removed]",
      "text/plain": [
       "<Figure size 1600x900 with 1 Axes>"
      ]
     },
     "metadata": {},
     "output_type": "display_data"
    }
   ],
   "source": [
    "energy.plot(kind='bar',figsize=(16,9))"
   ]
  },
  {
   "cell_type": "code",
   "execution_count": 64,
   "id": "adf7d0fb",
   "metadata": {},
   "outputs": [
    {
     "data": {
      "text/plain": [
       "3866943.3729244736"
      ]
     },
     "execution_count": 64,
     "metadata": {},
     "output_type": "execute_result"
    }
   ],
   "source": [
    "energy['tilt_30'].sum()"
   ]
  },
  {
   "cell_type": "code",
   "execution_count": 65,
   "id": "a5aead84",
   "metadata": {},
   "outputs": [
    {
     "data": {
      "text/plain": [
       "3862088.8229993773"
      ]
     },
     "execution_count": 65,
     "metadata": {},
     "output_type": "execute_result"
    }
   ],
   "source": [
    "energy['tilt_45'].sum()"
   ]
  },
  {
   "cell_type": "code",
   "execution_count": null,
   "id": "a7c4472b",
   "metadata": {},
   "outputs": [],
   "source": []
  }
 ],
 "metadata": {
  "kernelspec": {
   "display_name": "Python 3 (ipykernel)",
   "language": "python",
   "name": "python3"
  },
  "language_info": {
   "codemirror_mode": {
    "name": "ipython",
    "version": 3
   },
   "file_extension": ".py",
   "mimetype": "text/x-python",
   "name": "python",
   "nbconvert_exporter": "python",
   "pygments_lexer": "ipython3",
   "version": "3.9.13"
  }
 },
 "nbformat": 4,
 "nbformat_minor": 5
}
