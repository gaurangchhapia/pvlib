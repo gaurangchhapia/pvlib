{
 "cells": [
  {
   "cell_type": "code",
   "execution_count": 1,
   "id": "0649b7a3",
   "metadata": {},
   "outputs": [
    {
     "name": "stdout",
     "output_type": "stream",
     "text": [
      "Requirement already satisfied: chart_studio in c:\\users\\gaurang\\anaconda3\\lib\\site-packages (1.1.0)\n",
      "Requirement already satisfied: requests in c:\\users\\gaurang\\anaconda3\\lib\\site-packages (from chart_studio) (2.28.1)\n",
      "Requirement already satisfied: six in c:\\users\\gaurang\\anaconda3\\lib\\site-packages (from chart_studio) (1.16.0)\n",
      "Requirement already satisfied: retrying>=1.3.3 in c:\\users\\gaurang\\anaconda3\\lib\\site-packages (from chart_studio) (1.3.3)\n",
      "Requirement already satisfied: plotly in c:\\users\\gaurang\\anaconda3\\lib\\site-packages (from chart_studio) (5.9.0)\n",
      "Requirement already satisfied: tenacity>=6.2.0 in c:\\users\\gaurang\\anaconda3\\lib\\site-packages (from plotly->chart_studio) (8.0.1)\n",
      "Requirement already satisfied: idna<4,>=2.5 in c:\\users\\gaurang\\anaconda3\\lib\\site-packages (from requests->chart_studio) (3.3)\n",
      "Requirement already satisfied: urllib3<1.27,>=1.21.1 in c:\\users\\gaurang\\anaconda3\\lib\\site-packages (from requests->chart_studio) (1.26.11)\n",
      "Requirement already satisfied: certifi>=2017.4.17 in c:\\users\\gaurang\\anaconda3\\lib\\site-packages (from requests->chart_studio) (2022.9.14)\n",
      "Requirement already satisfied: charset-normalizer<3,>=2 in c:\\users\\gaurang\\anaconda3\\lib\\site-packages (from requests->chart_studio) (2.0.4)\n",
      "Requirement already satisfied: cufflinks in c:\\users\\gaurang\\anaconda3\\lib\\site-packages (0.17.3)\n",
      "Requirement already satisfied: setuptools>=34.4.1 in c:\\users\\gaurang\\anaconda3\\lib\\site-packages (from cufflinks) (63.4.1)\n",
      "Requirement already satisfied: ipython>=5.3.0 in c:\\users\\gaurang\\anaconda3\\lib\\site-packages (from cufflinks) (7.31.1)\n",
      "Requirement already satisfied: plotly>=4.1.1 in c:\\users\\gaurang\\anaconda3\\lib\\site-packages (from cufflinks) (5.9.0)\n",
      "Requirement already satisfied: pandas>=0.19.2 in c:\\users\\gaurang\\anaconda3\\lib\\site-packages (from cufflinks) (1.4.4)\n",
      "Requirement already satisfied: six>=1.9.0 in c:\\users\\gaurang\\anaconda3\\lib\\site-packages (from cufflinks) (1.16.0)\n",
      "Requirement already satisfied: numpy>=1.9.2 in c:\\users\\gaurang\\anaconda3\\lib\\site-packages (from cufflinks) (1.21.5)\n",
      "Requirement already satisfied: colorlover>=0.2.1 in c:\\users\\gaurang\\anaconda3\\lib\\site-packages (from cufflinks) (0.3.0)\n",
      "Requirement already satisfied: ipywidgets>=7.0.0 in c:\\users\\gaurang\\anaconda3\\lib\\site-packages (from cufflinks) (7.6.5)\n",
      "Requirement already satisfied: decorator in c:\\users\\gaurang\\anaconda3\\lib\\site-packages (from ipython>=5.3.0->cufflinks) (5.1.1)\n",
      "Requirement already satisfied: prompt-toolkit!=3.0.0,!=3.0.1,<3.1.0,>=2.0.0 in c:\\users\\gaurang\\anaconda3\\lib\\site-packages (from ipython>=5.3.0->cufflinks) (3.0.20)\n",
      "Requirement already satisfied: traitlets>=4.2 in c:\\users\\gaurang\\anaconda3\\lib\\site-packages (from ipython>=5.3.0->cufflinks) (5.1.1)\n",
      "Requirement already satisfied: pygments in c:\\users\\gaurang\\anaconda3\\lib\\site-packages (from ipython>=5.3.0->cufflinks) (2.11.2)\n",
      "Requirement already satisfied: jedi>=0.16 in c:\\users\\gaurang\\anaconda3\\lib\\site-packages (from ipython>=5.3.0->cufflinks) (0.18.1)\n",
      "Requirement already satisfied: backcall in c:\\users\\gaurang\\anaconda3\\lib\\site-packages (from ipython>=5.3.0->cufflinks) (0.2.0)\n",
      "Requirement already satisfied: matplotlib-inline in c:\\users\\gaurang\\anaconda3\\lib\\site-packages (from ipython>=5.3.0->cufflinks) (0.1.6)\n",
      "Requirement already satisfied: pickleshare in c:\\users\\gaurang\\anaconda3\\lib\\site-packages (from ipython>=5.3.0->cufflinks) (0.7.5)\n",
      "Requirement already satisfied: colorama in c:\\users\\gaurang\\anaconda3\\lib\\site-packages (from ipython>=5.3.0->cufflinks) (0.4.5)\n",
      "Requirement already satisfied: ipykernel>=4.5.1 in c:\\users\\gaurang\\anaconda3\\lib\\site-packages (from ipywidgets>=7.0.0->cufflinks) (6.15.2)\n",
      "Requirement already satisfied: jupyterlab-widgets>=1.0.0 in c:\\users\\gaurang\\anaconda3\\lib\\site-packages (from ipywidgets>=7.0.0->cufflinks) (1.0.0)\n",
      "Requirement already satisfied: widgetsnbextension~=3.5.0 in c:\\users\\gaurang\\anaconda3\\lib\\site-packages (from ipywidgets>=7.0.0->cufflinks) (3.5.2)\n",
      "Requirement already satisfied: ipython-genutils~=0.2.0 in c:\\users\\gaurang\\anaconda3\\lib\\site-packages (from ipywidgets>=7.0.0->cufflinks) (0.2.0)\n",
      "Requirement already satisfied: nbformat>=4.2.0 in c:\\users\\gaurang\\anaconda3\\lib\\site-packages (from ipywidgets>=7.0.0->cufflinks) (5.5.0)\n",
      "Requirement already satisfied: pytz>=2020.1 in c:\\users\\gaurang\\anaconda3\\lib\\site-packages (from pandas>=0.19.2->cufflinks) (2022.1)\n",
      "Requirement already satisfied: python-dateutil>=2.8.1 in c:\\users\\gaurang\\anaconda3\\lib\\site-packages (from pandas>=0.19.2->cufflinks) (2.8.2)\n",
      "Requirement already satisfied: tenacity>=6.2.0 in c:\\users\\gaurang\\anaconda3\\lib\\site-packages (from plotly>=4.1.1->cufflinks) (8.0.1)\n",
      "Requirement already satisfied: debugpy>=1.0 in c:\\users\\gaurang\\anaconda3\\lib\\site-packages (from ipykernel>=4.5.1->ipywidgets>=7.0.0->cufflinks) (1.5.1)\n",
      "Requirement already satisfied: packaging in c:\\users\\gaurang\\anaconda3\\lib\\site-packages (from ipykernel>=4.5.1->ipywidgets>=7.0.0->cufflinks) (21.3)\n",
      "Requirement already satisfied: nest-asyncio in c:\\users\\gaurang\\anaconda3\\lib\\site-packages (from ipykernel>=4.5.1->ipywidgets>=7.0.0->cufflinks) (1.5.5)\n",
      "Requirement already satisfied: jupyter-client>=6.1.12 in c:\\users\\gaurang\\anaconda3\\lib\\site-packages (from ipykernel>=4.5.1->ipywidgets>=7.0.0->cufflinks) (7.3.4)\n",
      "Requirement already satisfied: pyzmq>=17 in c:\\users\\gaurang\\anaconda3\\lib\\site-packages (from ipykernel>=4.5.1->ipywidgets>=7.0.0->cufflinks) (23.2.0)\n",
      "Requirement already satisfied: psutil in c:\\users\\gaurang\\anaconda3\\lib\\site-packages (from ipykernel>=4.5.1->ipywidgets>=7.0.0->cufflinks) (5.9.0)\n",
      "Requirement already satisfied: tornado>=6.1 in c:\\users\\gaurang\\anaconda3\\lib\\site-packages (from ipykernel>=4.5.1->ipywidgets>=7.0.0->cufflinks) (6.1)\n",
      "Requirement already satisfied: parso<0.9.0,>=0.8.0 in c:\\users\\gaurang\\anaconda3\\lib\\site-packages (from jedi>=0.16->ipython>=5.3.0->cufflinks) (0.8.3)\n",
      "Requirement already satisfied: jupyter_core in c:\\users\\gaurang\\anaconda3\\lib\\site-packages (from nbformat>=4.2.0->ipywidgets>=7.0.0->cufflinks) (4.11.1)\n",
      "Requirement already satisfied: jsonschema>=2.6 in c:\\users\\gaurang\\anaconda3\\lib\\site-packages (from nbformat>=4.2.0->ipywidgets>=7.0.0->cufflinks) (4.16.0)\n",
      "Requirement already satisfied: fastjsonschema in c:\\users\\gaurang\\anaconda3\\lib\\site-packages (from nbformat>=4.2.0->ipywidgets>=7.0.0->cufflinks) (2.16.2)\n",
      "Requirement already satisfied: wcwidth in c:\\users\\gaurang\\anaconda3\\lib\\site-packages (from prompt-toolkit!=3.0.0,!=3.0.1,<3.1.0,>=2.0.0->ipython>=5.3.0->cufflinks) (0.2.5)\n",
      "Requirement already satisfied: notebook>=4.4.1 in c:\\users\\gaurang\\anaconda3\\lib\\site-packages (from widgetsnbextension~=3.5.0->ipywidgets>=7.0.0->cufflinks) (6.4.12)\n",
      "Requirement already satisfied: pyrsistent!=0.17.0,!=0.17.1,!=0.17.2,>=0.14.0 in c:\\users\\gaurang\\anaconda3\\lib\\site-packages (from jsonschema>=2.6->nbformat>=4.2.0->ipywidgets>=7.0.0->cufflinks) (0.18.0)\n",
      "Requirement already satisfied: attrs>=17.4.0 in c:\\users\\gaurang\\anaconda3\\lib\\site-packages (from jsonschema>=2.6->nbformat>=4.2.0->ipywidgets>=7.0.0->cufflinks) (21.4.0)\n",
      "Requirement already satisfied: entrypoints in c:\\users\\gaurang\\anaconda3\\lib\\site-packages (from jupyter-client>=6.1.12->ipykernel>=4.5.1->ipywidgets>=7.0.0->cufflinks) (0.4)\n",
      "Requirement already satisfied: pywin32>=1.0 in c:\\users\\gaurang\\anaconda3\\lib\\site-packages (from jupyter_core->nbformat>=4.2.0->ipywidgets>=7.0.0->cufflinks) (302)\n",
      "Requirement already satisfied: argon2-cffi in c:\\users\\gaurang\\anaconda3\\lib\\site-packages (from notebook>=4.4.1->widgetsnbextension~=3.5.0->ipywidgets>=7.0.0->cufflinks) (21.3.0)\n",
      "Requirement already satisfied: nbconvert>=5 in c:\\users\\gaurang\\anaconda3\\lib\\site-packages (from notebook>=4.4.1->widgetsnbextension~=3.5.0->ipywidgets>=7.0.0->cufflinks) (6.4.4)\n",
      "Requirement already satisfied: prometheus-client in c:\\users\\gaurang\\anaconda3\\lib\\site-packages (from notebook>=4.4.1->widgetsnbextension~=3.5.0->ipywidgets>=7.0.0->cufflinks) (0.14.1)\n",
      "Requirement already satisfied: jinja2 in c:\\users\\gaurang\\anaconda3\\lib\\site-packages (from notebook>=4.4.1->widgetsnbextension~=3.5.0->ipywidgets>=7.0.0->cufflinks) (2.11.3)\n",
      "Requirement already satisfied: Send2Trash>=1.8.0 in c:\\users\\gaurang\\anaconda3\\lib\\site-packages (from notebook>=4.4.1->widgetsnbextension~=3.5.0->ipywidgets>=7.0.0->cufflinks) (1.8.0)\n",
      "Requirement already satisfied: terminado>=0.8.3 in c:\\users\\gaurang\\anaconda3\\lib\\site-packages (from notebook>=4.4.1->widgetsnbextension~=3.5.0->ipywidgets>=7.0.0->cufflinks) (0.13.1)\n",
      "Requirement already satisfied: pyparsing!=3.0.5,>=2.0.2 in c:\\users\\gaurang\\anaconda3\\lib\\site-packages (from packaging->ipykernel>=4.5.1->ipywidgets>=7.0.0->cufflinks) (3.0.9)\n",
      "Requirement already satisfied: pandocfilters>=1.4.1 in c:\\users\\gaurang\\anaconda3\\lib\\site-packages (from nbconvert>=5->notebook>=4.4.1->widgetsnbextension~=3.5.0->ipywidgets>=7.0.0->cufflinks) (1.5.0)\n",
      "Requirement already satisfied: nbclient<0.6.0,>=0.5.0 in c:\\users\\gaurang\\anaconda3\\lib\\site-packages (from nbconvert>=5->notebook>=4.4.1->widgetsnbextension~=3.5.0->ipywidgets>=7.0.0->cufflinks) (0.5.13)\n",
      "Requirement already satisfied: bleach in c:\\users\\gaurang\\anaconda3\\lib\\site-packages (from nbconvert>=5->notebook>=4.4.1->widgetsnbextension~=3.5.0->ipywidgets>=7.0.0->cufflinks) (4.1.0)\n",
      "Requirement already satisfied: testpath in c:\\users\\gaurang\\anaconda3\\lib\\site-packages (from nbconvert>=5->notebook>=4.4.1->widgetsnbextension~=3.5.0->ipywidgets>=7.0.0->cufflinks) (0.6.0)\n",
      "Requirement already satisfied: defusedxml in c:\\users\\gaurang\\anaconda3\\lib\\site-packages (from nbconvert>=5->notebook>=4.4.1->widgetsnbextension~=3.5.0->ipywidgets>=7.0.0->cufflinks) (0.7.1)\n",
      "Requirement already satisfied: jupyterlab-pygments in c:\\users\\gaurang\\anaconda3\\lib\\site-packages (from nbconvert>=5->notebook>=4.4.1->widgetsnbextension~=3.5.0->ipywidgets>=7.0.0->cufflinks) (0.1.2)\n",
      "Requirement already satisfied: mistune<2,>=0.8.1 in c:\\users\\gaurang\\anaconda3\\lib\\site-packages (from nbconvert>=5->notebook>=4.4.1->widgetsnbextension~=3.5.0->ipywidgets>=7.0.0->cufflinks) (0.8.4)\n",
      "Requirement already satisfied: beautifulsoup4 in c:\\users\\gaurang\\anaconda3\\lib\\site-packages (from nbconvert>=5->notebook>=4.4.1->widgetsnbextension~=3.5.0->ipywidgets>=7.0.0->cufflinks) (4.11.1)\n",
      "Requirement already satisfied: MarkupSafe>=0.23 in c:\\users\\gaurang\\anaconda3\\lib\\site-packages (from jinja2->notebook>=4.4.1->widgetsnbextension~=3.5.0->ipywidgets>=7.0.0->cufflinks) (2.0.1)\n",
      "Requirement already satisfied: pywinpty>=1.1.0 in c:\\users\\gaurang\\anaconda3\\lib\\site-packages (from terminado>=0.8.3->notebook>=4.4.1->widgetsnbextension~=3.5.0->ipywidgets>=7.0.0->cufflinks) (2.0.2)\n",
      "Requirement already satisfied: argon2-cffi-bindings in c:\\users\\gaurang\\anaconda3\\lib\\site-packages (from argon2-cffi->notebook>=4.4.1->widgetsnbextension~=3.5.0->ipywidgets>=7.0.0->cufflinks) (21.2.0)\n",
      "Requirement already satisfied: cffi>=1.0.1 in c:\\users\\gaurang\\anaconda3\\lib\\site-packages (from argon2-cffi-bindings->argon2-cffi->notebook>=4.4.1->widgetsnbextension~=3.5.0->ipywidgets>=7.0.0->cufflinks) (1.15.1)\n",
      "Requirement already satisfied: soupsieve>1.2 in c:\\users\\gaurang\\anaconda3\\lib\\site-packages (from beautifulsoup4->nbconvert>=5->notebook>=4.4.1->widgetsnbextension~=3.5.0->ipywidgets>=7.0.0->cufflinks) (2.3.1)\n",
      "Requirement already satisfied: webencodings in c:\\users\\gaurang\\anaconda3\\lib\\site-packages (from bleach->nbconvert>=5->notebook>=4.4.1->widgetsnbextension~=3.5.0->ipywidgets>=7.0.0->cufflinks) (0.5.1)\n",
      "Requirement already satisfied: pycparser in c:\\users\\gaurang\\anaconda3\\lib\\site-packages (from cffi>=1.0.1->argon2-cffi-bindings->argon2-cffi->notebook>=4.4.1->widgetsnbextension~=3.5.0->ipywidgets>=7.0.0->cufflinks) (2.21)\n"
     ]
    },
    {
     "name": "stdout",
     "output_type": "stream",
     "text": [
      "Requirement already satisfied: kaleido in c:\\users\\gaurang\\anaconda3\\lib\\site-packages (0.2.1)\n",
      "Requirement already satisfied: pvlib in c:\\users\\gaurang\\anaconda3\\lib\\site-packages (0.9.3)\n",
      "Requirement already satisfied: requests in c:\\users\\gaurang\\anaconda3\\lib\\site-packages (from pvlib) (2.28.1)\n",
      "Requirement already satisfied: numpy>=1.16.0 in c:\\users\\gaurang\\anaconda3\\lib\\site-packages (from pvlib) (1.21.5)\n",
      "Requirement already satisfied: pytz in c:\\users\\gaurang\\anaconda3\\lib\\site-packages (from pvlib) (2022.1)\n",
      "Requirement already satisfied: pandas>=0.25.0 in c:\\users\\gaurang\\anaconda3\\lib\\site-packages (from pvlib) (1.4.4)\n",
      "Requirement already satisfied: scipy>=1.2.0 in c:\\users\\gaurang\\anaconda3\\lib\\site-packages (from pvlib) (1.9.1)\n",
      "Requirement already satisfied: h5py in c:\\users\\gaurang\\anaconda3\\lib\\site-packages (from pvlib) (3.7.0)\n",
      "Requirement already satisfied: python-dateutil>=2.8.1 in c:\\users\\gaurang\\anaconda3\\lib\\site-packages (from pandas>=0.25.0->pvlib) (2.8.2)\n",
      "Requirement already satisfied: urllib3<1.27,>=1.21.1 in c:\\users\\gaurang\\anaconda3\\lib\\site-packages (from requests->pvlib) (1.26.11)\n",
      "Requirement already satisfied: idna<4,>=2.5 in c:\\users\\gaurang\\anaconda3\\lib\\site-packages (from requests->pvlib) (3.3)\n",
      "Requirement already satisfied: certifi>=2017.4.17 in c:\\users\\gaurang\\anaconda3\\lib\\site-packages (from requests->pvlib) (2022.9.14)\n",
      "Requirement already satisfied: charset-normalizer<3,>=2 in c:\\users\\gaurang\\anaconda3\\lib\\site-packages (from requests->pvlib) (2.0.4)\n",
      "Requirement already satisfied: six>=1.5 in c:\\users\\gaurang\\anaconda3\\lib\\site-packages (from python-dateutil>=2.8.1->pandas>=0.25.0->pvlib) (1.16.0)\n"
     ]
    }
   ],
   "source": [
    "!pip install chart_studio\n",
    "!pip install cufflinks\n",
    "!pip install -U kaleido\n",
    "!pip install pvlib"
   ]
  },
  {
   "cell_type": "code",
   "execution_count": 2,
   "id": "1a595cbf",
   "metadata": {},
   "outputs": [],
   "source": [
    "import pvlib\n",
    "from pvlib.modelchain import ModelChain\n",
    "from pvlib.location import Location\n",
    "from pvlib.pvsystem import PVSystem\n",
    "from pvlib.temperature import TEMPERATURE_MODEL_PARAMETERS\n",
    "import pandas as pd\n",
    "import matplotlib.pyplot as plt\n",
    "import plotly.graph_objects as go\n",
    "import plotly.io as pio\n",
    "%matplotlib inline"
   ]
  },
  {
   "cell_type": "code",
   "execution_count": 3,
   "id": "687e6247",
   "metadata": {},
   "outputs": [],
   "source": [
    "studi_global=pd.read_csv('studienkolleg_global.csv',skiprows=8,nrows=8784,\n",
    "                     index_col=0)"
   ]
  },
  {
   "cell_type": "code",
   "execution_count": 4,
   "id": "451a44c5",
   "metadata": {},
   "outputs": [],
   "source": [
    "studi_components=pd.read_csv('studienkolleg_components.csv',skiprows=8,nrows=8784,\n",
    "                     index_col=0)"
   ]
  },
  {
   "cell_type": "code",
   "execution_count": 5,
   "id": "52156d16",
   "metadata": {},
   "outputs": [],
   "source": [
    "poa_studi=pd.DataFrame(columns=['poa_global','poa_direct','poa_diffuse','temp_air','wind_speed'],\n",
    "                       index=studi_global.index)"
   ]
  },
  {
   "cell_type": "code",
   "execution_count": 6,
   "id": "388710cb",
   "metadata": {},
   "outputs": [],
   "source": [
    "poa_studi['poa_global']=studi_global['G(i)']\n",
    "poa_studi['poa_direct']=studi_components['Gb(i)']\n",
    "poa_studi['poa_diffuse']=studi_components['Gd(i)']+studi_components['Gr(i)']\n",
    "poa_studi['temp_air']=studi_components['T2m']\n",
    "poa_studi['wind_speed']=studi_components['WS10m']"
   ]
  },
  {
   "cell_type": "code",
   "execution_count": 7,
   "id": "7b5e5d29",
   "metadata": {},
   "outputs": [],
   "source": [
    "poa_studi.index=pd.to_datetime(poa_studi.index,format='%Y%m%d:%H%M')"
   ]
  },
  {
   "cell_type": "code",
   "execution_count": 8,
   "id": "a0e3fb94",
   "metadata": {},
   "outputs": [],
   "source": [
    "location=Location(latitude=51.4984,\n",
    "                  longitude=10.7931,\n",
    "                  tz='Europe/Berlin',\n",
    "                  altitude=202,\n",
    "                  name='Studienkolleg')"
   ]
  },
  {
   "cell_type": "code",
   "execution_count": 9,
   "id": "5fa63c8d",
   "metadata": {},
   "outputs": [],
   "source": [
    "cec=pvlib.pvsystem.retrieve_sam('CECmod')\n",
    "cec_inverters=pvlib.pvsystem.retrieve_sam('CECInverter')"
   ]
  },
  {
   "cell_type": "code",
   "execution_count": 10,
   "id": "368cf358",
   "metadata": {},
   "outputs": [],
   "source": [
    "module=cec['Hanwha_Q_CELLS_Q_PEAK_L_G4_2_370']\n",
    "inverter=cec_inverters['ABB__TRIO_27_6_TL_OUTD_S1A_US_480_A__480V_']\n",
    "inverter_1=cec_inverters['Advanced_Energy_Industries__AE_3TL_12_10__480V_']\n",
    "temperature_parameters=TEMPERATURE_MODEL_PARAMETERS['sapm']['open_rack_glass_glass']"
   ]
  },
  {
   "cell_type": "code",
   "execution_count": 11,
   "id": "85854769",
   "metadata": {},
   "outputs": [
    {
     "data": {
      "text/plain": [
       "Technology           Multi-c-Si\n",
       "Bifacial                      0\n",
       "STC                    370.0012\n",
       "PTC                       340.6\n",
       "A_c                       1.946\n",
       "Length                     1.97\n",
       "Width                     0.988\n",
       "N_s                          72\n",
       "I_sc_ref                   9.89\n",
       "V_oc_ref                  48.28\n",
       "I_mp_ref                   9.41\n",
       "V_mp_ref                  39.32\n",
       "alpha_sc               0.003758\n",
       "beta_oc               -0.139529\n",
       "T_NOCT                     45.5\n",
       "a_ref                   1.86472\n",
       "I_L_ref                9.997571\n",
       "I_o_ref                     0.0\n",
       "R_s                     0.35409\n",
       "R_sh_ref             407.904602\n",
       "Adjust                 8.079701\n",
       "gamma_r                  -0.394\n",
       "BIPV                          N\n",
       "Version       SAM 2018.11.11 r2\n",
       "Date                   1/3/2019\n",
       "Name: Hanwha_Q_CELLS_Q_PEAK_L_G4_2_370, dtype: object"
      ]
     },
     "execution_count": 11,
     "metadata": {},
     "output_type": "execute_result"
    }
   ],
   "source": [
    "cec['Hanwha_Q_CELLS_Q_PEAK_L_G4_2_370']"
   ]
  },
  {
   "cell_type": "code",
   "execution_count": 12,
   "id": "a2df26b9",
   "metadata": {},
   "outputs": [
    {
     "data": {
      "text/plain": [
       "Vac                          480\n",
       "Pso                    92.134544\n",
       "Paco                     27600.0\n",
       "Pdco                28199.173828\n",
       "Vdco                       715.0\n",
       "C0                          -0.0\n",
       "C1                     -0.000031\n",
       "C2                     -0.001336\n",
       "C3                     -0.001753\n",
       "Pnt                         8.28\n",
       "Vdcmax                     800.0\n",
       "Idcmax                 39.439404\n",
       "Mppt_low                   520.0\n",
       "Mppt_high                  800.0\n",
       "CEC_Date                     NaN\n",
       "CEC_Type     Utility Interactive\n",
       "Name: ABB__TRIO_27_6_TL_OUTD_S1A_US_480_A__480V_, dtype: object"
      ]
     },
     "execution_count": 12,
     "metadata": {},
     "output_type": "execute_result"
    }
   ],
   "source": [
    "cec_inverters['ABB__TRIO_27_6_TL_OUTD_S1A_US_480_A__480V_']"
   ]
  },
  {
   "cell_type": "code",
   "execution_count": 13,
   "id": "d692891e",
   "metadata": {},
   "outputs": [
    {
     "data": {
      "text/plain": [
       "Vac                          480\n",
       "Pso                     63.25692\n",
       "Paco                     12000.0\n",
       "Pdco                12274.302734\n",
       "Vdco                       720.0\n",
       "C0                          -0.0\n",
       "C1                     -0.000012\n",
       "C2                     -0.000531\n",
       "C3                     -0.005697\n",
       "Pnt                          3.6\n",
       "Vdcmax                     900.0\n",
       "Idcmax                 17.047643\n",
       "Mppt_low                   450.0\n",
       "Mppt_high                  900.0\n",
       "CEC_Date                     NaN\n",
       "CEC_Type     Utility Interactive\n",
       "Name: Advanced_Energy_Industries__AE_3TL_12_6__480V_, dtype: object"
      ]
     },
     "execution_count": 13,
     "metadata": {},
     "output_type": "execute_result"
    }
   ],
   "source": [
    "cec_inverters['Advanced_Energy_Industries__AE_3TL_12_6__480V_']"
   ]
  },
  {
   "cell_type": "code",
   "execution_count": 41,
   "id": "96878e37",
   "metadata": {},
   "outputs": [
    {
     "data": {
      "text/plain": [
       "Vac                          208\n",
       "Pso                      25.9825\n",
       "Paco                      2000.0\n",
       "Pdco                 2089.758545\n",
       "Vdco                       330.0\n",
       "C0                     -0.000013\n",
       "C1                     -0.000029\n",
       "C2                      0.001223\n",
       "C3                     -0.001381\n",
       "Pnt                          0.4\n",
       "Vdcmax                     416.0\n",
       "Idcmax                  6.332602\n",
       "Mppt_low                   100.0\n",
       "Mppt_high                  416.0\n",
       "CEC_Date                     NaN\n",
       "CEC_Type     Utility Interactive\n",
       "Name: ABB__UNO_2_0_I_OUTD_S_US__208V_, dtype: object"
      ]
     },
     "execution_count": 41,
     "metadata": {},
     "output_type": "execute_result"
    }
   ],
   "source": [
    "cec_inverters['ABB__UNO_2_0_I_OUTD_S_US__208V_']"
   ]
  },
  {
   "cell_type": "code",
   "execution_count": 34,
   "id": "b6f61b13",
   "metadata": {},
   "outputs": [
    {
     "data": {
      "text/plain": [
       "Vac                          480\n",
       "Pso                   144.161957\n",
       "Paco                     60000.0\n",
       "Pdco                61110.542969\n",
       "Vdco                       720.0\n",
       "C0                          -0.0\n",
       "C1                      -0.00002\n",
       "C2                      0.000759\n",
       "C3                     -0.000953\n",
       "Pnt                          0.8\n",
       "Vdcmax                     800.0\n",
       "Idcmax                 84.875754\n",
       "Mppt_low                   570.0\n",
       "Mppt_high                  800.0\n",
       "CEC_Date              10/15/2018\n",
       "CEC_Type     Utility Interactive\n",
       "Name: ABB__TRIO_60_0_TL_OUTD_US_480__480V_, dtype: object"
      ]
     },
     "execution_count": 34,
     "metadata": {},
     "output_type": "execute_result"
    }
   ],
   "source": [
    "cec_inverters['ABB__TRIO_60_0_TL_OUTD_US_480__480V_']"
   ]
  },
  {
   "cell_type": "code",
   "execution_count": 14,
   "id": "094f0ff6",
   "metadata": {},
   "outputs": [],
   "source": [
    "system=PVSystem(surface_tilt=30,surface_azimuth=191,\n",
    "                module_parameters=module,\n",
    "                inverter_parameters=inverter,\n",
    "                temperature_model_parameters=temperature_parameters,\n",
    "                modules_per_string=8,strings_per_inverter=9)"
   ]
  },
  {
   "cell_type": "code",
   "execution_count": 15,
   "id": "6d9bdcdd",
   "metadata": {},
   "outputs": [],
   "source": [
    "system1=PVSystem(surface_tilt=30,surface_azimuth=191,\n",
    "                module_parameters=module,\n",
    "                inverter_parameters=inverter_1,\n",
    "                temperature_model_parameters=temperature_parameters,\n",
    "                modules_per_string=8,strings_per_inverter=4)"
   ]
  },
  {
   "cell_type": "code",
   "execution_count": 16,
   "id": "8bc5ad37",
   "metadata": {},
   "outputs": [
    {
     "data": {
      "text/plain": [
       "ModelChain: \n",
       "  name: None\n",
       "  clearsky_model: ineichen\n",
       "  transposition_model: haydavies\n",
       "  solar_position_method: nrel_numpy\n",
       "  airmass_model: kastenyoung1989\n",
       "  dc_model: cec\n",
       "  ac_model: sandia_inverter\n",
       "  aoi_model: physical_aoi_loss\n",
       "  spectral_model: no_spectral_loss\n",
       "  temperature_model: sapm_temp\n",
       "  losses_model: no_extra_losses"
      ]
     },
     "execution_count": 16,
     "metadata": {},
     "output_type": "execute_result"
    }
   ],
   "source": [
    "modelchain=ModelChain(system,location,aoi_model=\"physical\",spectral_model=\"no_loss\")\n",
    "modelchain"
   ]
  },
  {
   "cell_type": "code",
   "execution_count": 17,
   "id": "14ddf2fe",
   "metadata": {},
   "outputs": [],
   "source": [
    "modelchain1=ModelChain(system1,location,aoi_model=\"physical\",spectral_model=\"no_loss\")"
   ]
  },
  {
   "cell_type": "code",
   "execution_count": 18,
   "id": "7d8708bf",
   "metadata": {
    "scrolled": true
   },
   "outputs": [
    {
     "name": "stdout",
     "output_type": "stream",
     "text": [
      "\f",
      "\n"
     ]
    }
   ],
   "source": [
    "clear"
   ]
  },
  {
   "cell_type": "code",
   "execution_count": 19,
   "id": "040ee10f",
   "metadata": {},
   "outputs": [
    {
     "name": "stderr",
     "output_type": "stream",
     "text": [
      "C:\\Users\\Gaurang\\anaconda3\\lib\\site-packages\\pvlib\\tools.py:359: RuntimeWarning: divide by zero encountered in true_divide\n",
      "  np.trunc(np.log(atol / (df['VH'] - df['VL'])) / np.log(phim1)))\n"
     ]
    },
    {
     "data": {
      "text/plain": [
       "<AxesSubplot:xlabel='time'>"
      ]
     },
     "execution_count": 19,
     "metadata": {},
     "output_type": "execute_result"
    },
    {
     "data": {
      "image/png": "[encoded data removed]",
      "text/plain": [
       "<Figure size 1600x900 with 1 Axes>"
      ]
     },
     "metadata": {},
     "output_type": "display_data"
    }
   ],
   "source": [
    "modelchain.run_model_from_poa(poa_studi)\n",
    "modelchain.results.ac.resample('M').sum().plot(kind='bar',figsize=(16,9))"
   ]
  },
  {
   "cell_type": "code",
   "execution_count": 20,
   "id": "e12d4da8",
   "metadata": {},
   "outputs": [
    {
     "name": "stderr",
     "output_type": "stream",
     "text": [
      "C:\\Users\\Gaurang\\anaconda3\\lib\\site-packages\\pvlib\\tools.py:359: RuntimeWarning: divide by zero encountered in true_divide\n",
      "  np.trunc(np.log(atol / (df['VH'] - df['VL'])) / np.log(phim1)))\n"
     ]
    },
    {
     "data": {
      "text/plain": [
       "<AxesSubplot:xlabel='time'>"
      ]
     },
     "execution_count": 20,
     "metadata": {},
     "output_type": "execute_result"
    },
    {
     "data": {
      "image/png": "[encoded data removed]",
      "text/plain": [
       "<Figure size 1600x900 with 1 Axes>"
      ]
     },
     "metadata": {},
     "output_type": "display_data"
    }
   ],
   "source": [
    "modelchain1.run_model_from_poa(poa_studi)\n",
    "modelchain1.results.ac.resample('M').sum().plot(kind='bar',figsize=(16,9))"
   ]
  },
  {
   "cell_type": "code",
   "execution_count": 21,
   "id": "c33dc94a",
   "metadata": {},
   "outputs": [],
   "source": [
    "a=modelchain.results.ac.resample('M').sum()\n",
    "b=modelchain1.results.ac.resample('M').sum()"
   ]
  },
  {
   "cell_type": "code",
   "execution_count": 22,
   "id": "d17b855c",
   "metadata": {},
   "outputs": [],
   "source": [
    "en=pd.DataFrame({'inverter1':a,\n",
    "                 'inverter2':b})"
   ]
  },
  {
   "cell_type": "code",
   "execution_count": 23,
   "id": "f9c9979e",
   "metadata": {},
   "outputs": [],
   "source": [
    "en['Total_en']=en['inverter1']+en['inverter2']"
   ]
  },
  {
   "cell_type": "code",
   "execution_count": 24,
   "id": "1bdd9ff8",
   "metadata": {},
   "outputs": [],
   "source": [
    "en.drop(['inverter1','inverter2'],axis=1,inplace=True)"
   ]
  },
  {
   "cell_type": "code",
   "execution_count": 25,
   "id": "2f9e2fe7",
   "metadata": {},
   "outputs": [
    {
     "data": {
      "text/plain": [
       "49630954.98410685"
      ]
     },
     "execution_count": 25,
     "metadata": {},
     "output_type": "execute_result"
    }
   ],
   "source": [
    "en['Total_en'].sum()"
   ]
  },
  {
   "cell_type": "code",
   "execution_count": 26,
   "id": "15066d99",
   "metadata": {},
   "outputs": [
    {
     "data": {
      "text/plain": [
       "<AxesSubplot:xlabel='time'>"
      ]
     },
     "execution_count": 26,
     "metadata": {},
     "output_type": "execute_result"
    },
    {
     "data": {
      "image/png": "[encoded data removed]",
      "text/plain": [
       "<Figure size 640x480 with 1 Axes>"
      ]
     },
     "metadata": {},
     "output_type": "display_data"
    }
   ],
   "source": [
    "en.plot(kind='bar')"
   ]
  },
  {
   "cell_type": "code",
   "execution_count": 27,
   "id": "25fa074f",
   "metadata": {},
   "outputs": [],
   "source": [
    "T='Times New Roman'\n",
    "A='Arial'\n",
    "hsn_blue='rgb(0,89,158)'\n",
    "hsn_bluem='rgb(15,147,250)'\n",
    "hsn_blueb='rgb(45,158,247)'\n",
    "hsn_blueg='rgb(53,107,150)'\n",
    "hsn_bluebl='rgb(9,47,77)'\n",
    "hsn_green='rgb(103,189,0)'\n",
    "hsn_greenb='rgb(144,252,15)'\n",
    "hsn_greeng='rgb(120,163,69)'\n",
    "hsn_greenl='rgb(193,240,137)'\n",
    "hsn_greenbl='rgb(43,74,7)'\n",
    "hsn_grey = 'rgb(97,98,99)'\n",
    "hsn_greym= 'rgb(210,210,212)'\n",
    "hsn_greyl= 'rgb(227,228,230)'"
   ]
  },
  {
   "cell_type": "code",
   "execution_count": 28,
   "id": "fe6584d3",
   "metadata": {},
   "outputs": [],
   "source": [
    "en['Months']=['Jan','Feb','Mar','Apr','May','Jun','Jul','Aug','Sep','Oct','Nov','Dec']"
   ]
  },
  {
   "cell_type": "code",
   "execution_count": 29,
   "id": "4d0afa64",
   "metadata": {},
   "outputs": [
    {
     "data": {
      "text/html": [
       "<div>\n",
       "<style scoped>\n",
       "    .dataframe tbody tr th:only-of-type {\n",
       "        vertical-align: middle;\n",
       "    }\n",
       "\n",
       "    .dataframe tbody tr th {\n",
       "        vertical-align: top;\n",
       "    }\n",
       "\n",
       "    .dataframe thead th {\n",
       "        text-align: right;\n",
       "    }\n",
       "</style>\n",
       "<table border=\"1\" class=\"dataframe\">\n",
       "  <thead>\n",
       "    <tr style=\"text-align: right;\">\n",
       "      <th></th>\n",
       "      <th>Total_en</th>\n",
       "      <th>Months</th>\n",
       "    </tr>\n",
       "    <tr>\n",
       "      <th>time</th>\n",
       "      <th></th>\n",
       "      <th></th>\n",
       "    </tr>\n",
       "  </thead>\n",
       "  <tbody>\n",
       "    <tr>\n",
       "      <th>2020-01-31</th>\n",
       "      <td>1.681971e+06</td>\n",
       "      <td>Jan</td>\n",
       "    </tr>\n",
       "    <tr>\n",
       "      <th>2020-02-29</th>\n",
       "      <td>2.208376e+06</td>\n",
       "      <td>Feb</td>\n",
       "    </tr>\n",
       "    <tr>\n",
       "      <th>2020-03-31</th>\n",
       "      <td>5.086218e+06</td>\n",
       "      <td>Mar</td>\n",
       "    </tr>\n",
       "    <tr>\n",
       "      <th>2020-04-30</th>\n",
       "      <td>7.142736e+06</td>\n",
       "      <td>Apr</td>\n",
       "    </tr>\n",
       "    <tr>\n",
       "      <th>2020-05-31</th>\n",
       "      <td>6.164117e+06</td>\n",
       "      <td>May</td>\n",
       "    </tr>\n",
       "    <tr>\n",
       "      <th>2020-06-30</th>\n",
       "      <td>5.993943e+06</td>\n",
       "      <td>Jun</td>\n",
       "    </tr>\n",
       "    <tr>\n",
       "      <th>2020-07-31</th>\n",
       "      <td>6.089584e+06</td>\n",
       "      <td>Jul</td>\n",
       "    </tr>\n",
       "    <tr>\n",
       "      <th>2020-08-31</th>\n",
       "      <td>4.916916e+06</td>\n",
       "      <td>Aug</td>\n",
       "    </tr>\n",
       "    <tr>\n",
       "      <th>2020-09-30</th>\n",
       "      <td>5.285833e+06</td>\n",
       "      <td>Sep</td>\n",
       "    </tr>\n",
       "    <tr>\n",
       "      <th>2020-10-31</th>\n",
       "      <td>2.109770e+06</td>\n",
       "      <td>Oct</td>\n",
       "    </tr>\n",
       "    <tr>\n",
       "      <th>2020-11-30</th>\n",
       "      <td>1.858403e+06</td>\n",
       "      <td>Nov</td>\n",
       "    </tr>\n",
       "    <tr>\n",
       "      <th>2020-12-31</th>\n",
       "      <td>1.093089e+06</td>\n",
       "      <td>Dec</td>\n",
       "    </tr>\n",
       "  </tbody>\n",
       "</table>\n",
       "</div>"
      ],
      "text/plain": [
       "                Total_en Months\n",
       "time                           \n",
       "2020-01-31  1.681971e+06    Jan\n",
       "2020-02-29  2.208376e+06    Feb\n",
       "2020-03-31  5.086218e+06    Mar\n",
       "2020-04-30  7.142736e+06    Apr\n",
       "2020-05-31  6.164117e+06    May\n",
       "2020-06-30  5.993943e+06    Jun\n",
       "2020-07-31  6.089584e+06    Jul\n",
       "2020-08-31  4.916916e+06    Aug\n",
       "2020-09-30  5.285833e+06    Sep\n",
       "2020-10-31  2.109770e+06    Oct\n",
       "2020-11-30  1.858403e+06    Nov\n",
       "2020-12-31  1.093089e+06    Dec"
      ]
     },
     "execution_count": 29,
     "metadata": {},
     "output_type": "execute_result"
    }
   ],
   "source": [
    "en"
   ]
  },
  {
   "cell_type": "code",
   "execution_count": 30,
   "id": "5b74ef41",
   "metadata": {},
   "outputs": [],
   "source": [
    "trace1=go.Bar(\n",
    "        x=en['Months'],\n",
    "        y=en['Total_en'],\n",
    "        text=en['Total_en'],\n",
    "        #textposition='auto',\n",
    "        name='Energy distribution across the year',\n",
    "        marker_color=hsn_bluebl)\n"
   ]
  },
  {
   "cell_type": "code",
   "execution_count": 33,
   "id": "b71984db",
   "metadata": {},
   "outputs": [
    {
     "data": {
      "application/vnd.plotly.v1+json": {
       "config": {
        "plotlyServerURL": "https://plot.ly"
       },
       "data": [
        {
         "marker": {
          "color": "rgb(9,47,77)"
         },
         "name": "Energy distribution across the year",
         "opacity": 1,
         "text": [
          1681971.1436508812,
          2208375.939676002,
          5086217.58201114,
          7142736.345789863,
          6164117.203088483,
          5993942.5274992725,
          6089584.200805942,
          4916915.651195239,
          5285833.416587602,
          2109769.538323887,
          1858402.7873151037,
          1093088.648163447
         ],
         "textfont": {
          "color": "white",
          "family": "Arial",
          "size": 18
         },
         "textposition": "inside",
         "texttemplate": "%{text:.4s}",
         "type": "bar",
         "x": [
          "Jan",
          "Feb",
          "Mar",
          "Apr",
          "May",
          "Jun",
          "Jul",
          "Aug",
          "Sep",
          "Oct",
          "Nov",
          "Dec"
         ],
         "y": [
          1681971.1436508812,
          2208375.939676002,
          5086217.58201114,
          7142736.345789863,
          6164117.203088483,
          5993942.5274992725,
          6089584.200805942,
          4916915.651195239,
          5285833.416587602,
          2109769.538323887,
          1858402.7873151037,
          1093088.648163447
         ]
        }
       ],
       "layout": {
        "autosize": true,
        "font": {
         "color": "rgb(0,89,158)",
         "family": "Arial",
         "size": 18
        },
        "legend": {
         "bgcolor": "rgb(227,228,230)",
         "bordercolor": "rgb(0,89,158)",
         "borderwidth": 1,
         "font": {
          "color": "rgb(0,89,158)",
          "family": "Arial",
          "size": 10
         },
         "orientation": "h",
         "title": {
          "font": {
           "family": "Arial"
          }
         },
         "tracegroupgap": 500,
         "valign": "bottom",
         "x": 0.5,
         "xanchor": "center",
         "y": -0.3,
         "yanchor": "middle"
        },
        "margin": {
         "autoexpand": true,
         "b": 100,
         "l": 50,
         "pad": 0,
         "r": 50,
         "t": 100
        },
        "paper_bgcolor": "rgb(227,228,230)",
        "plot_bgcolor": "rgb(210,210,212)",
        "showlegend": false,
        "template": {
         "data": {
          "bar": [
           {
            "error_x": {
             "color": "#2a3f5f"
            },
            "error_y": {
             "color": "#2a3f5f"
            },
            "marker": {
             "line": {
              "color": "#E5ECF6",
              "width": 0.5
             },
             "pattern": {
              "fillmode": "overlay",
              "size": 10,
              "solidity": 0.2
             }
            },
            "type": "bar"
           }
          ],
          "barpolar": [
           {
            "marker": {
             "line": {
              "color": "#E5ECF6",
              "width": 0.5
             },
             "pattern": {
              "fillmode": "overlay",
              "size": 10,
              "solidity": 0.2
             }
            },
            "type": "barpolar"
           }
          ],
          "carpet": [
           {
            "aaxis": {
             "endlinecolor": "#2a3f5f",
             "gridcolor": "white",
             "linecolor": "white",
             "minorgridcolor": "white",
             "startlinecolor": "#2a3f5f"
            },
            "baxis": {
             "endlinecolor": "#2a3f5f",
             "gridcolor": "white",
             "linecolor": "white",
             "minorgridcolor": "white",
             "startlinecolor": "#2a3f5f"
            },
            "type": "carpet"
           }
          ],
          "choropleth": [
           {
            "colorbar": {
             "outlinewidth": 0,
             "ticks": ""
            },
            "type": "choropleth"
           }
          ],
          "contour": [
           {
            "colorbar": {
             "outlinewidth": 0,
             "ticks": ""
            },
            "colorscale": [
             [
              0,
              "#0d0887"
             ],
             [
              0.1111111111111111,
              "#46039f"
             ],
             [
              0.2222222222222222,
              "#7201a8"
             ],
             [
              0.3333333333333333,
              "#9c179e"
             ],
             [
              0.4444444444444444,
              "#bd3786"
             ],
             [
              0.5555555555555556,
              "#d8576b"
             ],
             [
              0.6666666666666666,
              "#ed7953"
             ],
             [
              0.7777777777777778,
              "#fb9f3a"
             ],
             [
              0.8888888888888888,
              "#fdca26"
             ],
             [
              1,
              "#f0f921"
             ]
            ],
            "type": "contour"
           }
          ],
          "contourcarpet": [
           {
            "colorbar": {
             "outlinewidth": 0,
             "ticks": ""
            },
            "type": "contourcarpet"
           }
          ],
          "heatmap": [
           {
            "colorbar": {
             "outlinewidth": 0,
             "ticks": ""
            },
            "colorscale": [
             [
              0,
              "#0d0887"
             ],
             [
              0.1111111111111111,
              "#46039f"
             ],
             [
              0.2222222222222222,
              "#7201a8"
             ],
             [
              0.3333333333333333,
              "#9c179e"
             ],
             [
              0.4444444444444444,
              "#bd3786"
             ],
             [
              0.5555555555555556,
              "#d8576b"
             ],
             [
              0.6666666666666666,
              "#ed7953"
             ],
             [
              0.7777777777777778,
              "#fb9f3a"
             ],
             [
              0.8888888888888888,
              "#fdca26"
             ],
             [
              1,
              "#f0f921"
             ]
            ],
            "type": "heatmap"
           }
          ],
          "heatmapgl": [
           {
            "colorbar": {
             "outlinewidth": 0,
             "ticks": ""
            },
            "colorscale": [
             [
              0,
              "#0d0887"
             ],
             [
              0.1111111111111111,
              "#46039f"
             ],
             [
              0.2222222222222222,
              "#7201a8"
             ],
             [
              0.3333333333333333,
              "#9c179e"
             ],
             [
              0.4444444444444444,
              "#bd3786"
             ],
             [
              0.5555555555555556,
              "#d8576b"
             ],
             [
              0.6666666666666666,
              "#ed7953"
             ],
             [
              0.7777777777777778,
              "#fb9f3a"
             ],
             [
              0.8888888888888888,
              "#fdca26"
             ],
             [
              1,
              "#f0f921"
             ]
            ],
            "type": "heatmapgl"
           }
          ],
          "histogram": [
           {
            "marker": {
             "pattern": {
              "fillmode": "overlay",
              "size": 10,
              "solidity": 0.2
             }
            },
            "type": "histogram"
           }
          ],
          "histogram2d": [
           {
            "colorbar": {
             "outlinewidth": 0,
             "ticks": ""
            },
            "colorscale": [
             [
              0,
              "#0d0887"
             ],
             [
              0.1111111111111111,
              "#46039f"
             ],
             [
              0.2222222222222222,
              "#7201a8"
             ],
             [
              0.3333333333333333,
              "#9c179e"
             ],
             [
              0.4444444444444444,
              "#bd3786"
             ],
             [
              0.5555555555555556,
              "#d8576b"
             ],
             [
              0.6666666666666666,
              "#ed7953"
             ],
             [
              0.7777777777777778,
              "#fb9f3a"
             ],
             [
              0.8888888888888888,
              "#fdca26"
             ],
             [
              1,
              "#f0f921"
             ]
            ],
            "type": "histogram2d"
           }
          ],
          "histogram2dcontour": [
           {
            "colorbar": {
             "outlinewidth": 0,
             "ticks": ""
            },
            "colorscale": [
             [
              0,
              "#0d0887"
             ],
             [
              0.1111111111111111,
              "#46039f"
             ],
             [
              0.2222222222222222,
              "#7201a8"
             ],
             [
              0.3333333333333333,
              "#9c179e"
             ],
             [
              0.4444444444444444,
              "#bd3786"
             ],
             [
              0.5555555555555556,
              "#d8576b"
             ],
             [
              0.6666666666666666,
              "#ed7953"
             ],
             [
              0.7777777777777778,
              "#fb9f3a"
             ],
             [
              0.8888888888888888,
              "#fdca26"
             ],
             [
              1,
              "#f0f921"
             ]
            ],
            "type": "histogram2dcontour"
           }
          ],
          "mesh3d": [
           {
            "colorbar": {
             "outlinewidth": 0,
             "ticks": ""
            },
            "type": "mesh3d"
           }
          ],
          "parcoords": [
           {
            "line": {
             "colorbar": {
              "outlinewidth": 0,
              "ticks": ""
             }
            },
            "type": "parcoords"
           }
          ],
          "pie": [
           {
            "automargin": true,
            "type": "pie"
           }
          ],
          "scatter": [
           {
            "fillpattern": {
             "fillmode": "overlay",
             "size": 10,
             "solidity": 0.2
            },
            "type": "scatter"
           }
          ],
          "scatter3d": [
           {
            "line": {
             "colorbar": {
              "outlinewidth": 0,
              "ticks": ""
             }
            },
            "marker": {
             "colorbar": {
              "outlinewidth": 0,
              "ticks": ""
             }
            },
            "type": "scatter3d"
           }
          ],
          "scattercarpet": [
           {
            "marker": {
             "colorbar": {
              "outlinewidth": 0,
              "ticks": ""
             }
            },
            "type": "scattercarpet"
           }
          ],
          "scattergeo": [
           {
            "marker": {
             "colorbar": {
              "outlinewidth": 0,
              "ticks": ""
             }
            },
            "type": "scattergeo"
           }
          ],
          "scattergl": [
           {
            "marker": {
             "colorbar": {
              "outlinewidth": 0,
              "ticks": ""
             }
            },
            "type": "scattergl"
           }
          ],
          "scattermapbox": [
           {
            "marker": {
             "colorbar": {
              "outlinewidth": 0,
              "ticks": ""
             }
            },
            "type": "scattermapbox"
           }
          ],
          "scatterpolar": [
           {
            "marker": {
             "colorbar": {
              "outlinewidth": 0,
              "ticks": ""
             }
            },
            "type": "scatterpolar"
           }
          ],
          "scatterpolargl": [
           {
            "marker": {
             "colorbar": {
              "outlinewidth": 0,
              "ticks": ""
             }
            },
            "type": "scatterpolargl"
           }
          ],
          "scatterternary": [
           {
            "marker": {
             "colorbar": {
              "outlinewidth": 0,
              "ticks": ""
             }
            },
            "type": "scatterternary"
           }
          ],
          "surface": [
           {
            "colorbar": {
             "outlinewidth": 0,
             "ticks": ""
            },
            "colorscale": [
             [
              0,
              "#0d0887"
             ],
             [
              0.1111111111111111,
              "#46039f"
             ],
             [
              0.2222222222222222,
              "#7201a8"
             ],
             [
              0.3333333333333333,
              "#9c179e"
             ],
             [
              0.4444444444444444,
              "#bd3786"
             ],
             [
              0.5555555555555556,
              "#d8576b"
             ],
             [
              0.6666666666666666,
              "#ed7953"
             ],
             [
              0.7777777777777778,
              "#fb9f3a"
             ],
             [
              0.8888888888888888,
              "#fdca26"
             ],
             [
              1,
              "#f0f921"
             ]
            ],
            "type": "surface"
           }
          ],
          "table": [
           {
            "cells": {
             "fill": {
              "color": "#EBF0F8"
             },
             "line": {
              "color": "white"
             }
            },
            "header": {
             "fill": {
              "color": "#C8D4E3"
             },
             "line": {
              "color": "white"
             }
            },
            "type": "table"
           }
          ]
         },
         "layout": {
          "annotationdefaults": {
           "arrowcolor": "#2a3f5f",
           "arrowhead": 0,
           "arrowwidth": 1
          },
          "autotypenumbers": "strict",
          "coloraxis": {
           "colorbar": {
            "outlinewidth": 0,
            "ticks": ""
           }
          },
          "colorscale": {
           "diverging": [
            [
             0,
             "#8e0152"
            ],
            [
             0.1,
             "#c51b7d"
            ],
            [
             0.2,
             "#de77ae"
            ],
            [
             0.3,
             "#f1b6da"
            ],
            [
             0.4,
             "#fde0ef"
            ],
            [
             0.5,
             "#f7f7f7"
            ],
            [
             0.6,
             "#e6f5d0"
            ],
            [
             0.7,
             "#b8e186"
            ],
            [
             0.8,
             "#7fbc41"
            ],
            [
             0.9,
             "#4d9221"
            ],
            [
             1,
             "#276419"
            ]
           ],
           "sequential": [
            [
             0,
             "#0d0887"
            ],
            [
             0.1111111111111111,
             "#46039f"
            ],
            [
             0.2222222222222222,
             "#7201a8"
            ],
            [
             0.3333333333333333,
             "#9c179e"
            ],
            [
             0.4444444444444444,
             "#bd3786"
            ],
            [
             0.5555555555555556,
             "#d8576b"
            ],
            [
             0.6666666666666666,
             "#ed7953"
            ],
            [
             0.7777777777777778,
             "#fb9f3a"
            ],
            [
             0.8888888888888888,
             "#fdca26"
            ],
            [
             1,
             "#f0f921"
            ]
           ],
           "sequentialminus": [
            [
             0,
             "#0d0887"
            ],
            [
             0.1111111111111111,
             "#46039f"
            ],
            [
             0.2222222222222222,
             "#7201a8"
            ],
            [
             0.3333333333333333,
             "#9c179e"
            ],
            [
             0.4444444444444444,
             "#bd3786"
            ],
            [
             0.5555555555555556,
             "#d8576b"
            ],
            [
             0.6666666666666666,
             "#ed7953"
            ],
            [
             0.7777777777777778,
             "#fb9f3a"
            ],
            [
             0.8888888888888888,
             "#fdca26"
            ],
            [
             1,
             "#f0f921"
            ]
           ]
          },
          "colorway": [
           "#636efa",
           "#EF553B",
           "#00cc96",
           "#ab63fa",
           "#FFA15A",
           "#19d3f3",
           "#FF6692",
           "#B6E880",
           "#FF97FF",
           "#FECB52"
          ],
          "font": {
           "color": "#2a3f5f"
          },
          "geo": {
           "bgcolor": "white",
           "lakecolor": "white",
           "landcolor": "#E5ECF6",
           "showlakes": true,
           "showland": true,
           "subunitcolor": "white"
          },
          "hoverlabel": {
           "align": "left"
          },
          "hovermode": "closest",
          "mapbox": {
           "style": "light"
          },
          "paper_bgcolor": "white",
          "plot_bgcolor": "#E5ECF6",
          "polar": {
           "angularaxis": {
            "gridcolor": "white",
            "linecolor": "white",
            "ticks": ""
           },
           "bgcolor": "#E5ECF6",
           "radialaxis": {
            "gridcolor": "white",
            "linecolor": "white",
            "ticks": ""
           }
          },
          "scene": {
           "xaxis": {
            "backgroundcolor": "#E5ECF6",
            "gridcolor": "white",
            "gridwidth": 2,
            "linecolor": "white",
            "showbackground": true,
            "ticks": "",
            "zerolinecolor": "white"
           },
           "yaxis": {
            "backgroundcolor": "#E5ECF6",
            "gridcolor": "white",
            "gridwidth": 2,
            "linecolor": "white",
            "showbackground": true,
            "ticks": "",
            "zerolinecolor": "white"
           },
           "zaxis": {
            "backgroundcolor": "#E5ECF6",
            "gridcolor": "white",
            "gridwidth": 2,
            "linecolor": "white",
            "showbackground": true,
            "ticks": "",
            "zerolinecolor": "white"
           }
          },
          "shapedefaults": {
           "line": {
            "color": "#2a3f5f"
           }
          },
          "ternary": {
           "aaxis": {
            "gridcolor": "white",
            "linecolor": "white",
            "ticks": ""
           },
           "baxis": {
            "gridcolor": "white",
            "linecolor": "white",
            "ticks": ""
           },
           "bgcolor": "#E5ECF6",
           "caxis": {
            "gridcolor": "white",
            "linecolor": "white",
            "ticks": ""
           }
          },
          "title": {
           "x": 0.05
          },
          "xaxis": {
           "automargin": true,
           "gridcolor": "white",
           "linecolor": "white",
           "ticks": "",
           "title": {
            "standoff": 15
           },
           "zerolinecolor": "white",
           "zerolinewidth": 2
          },
          "yaxis": {
           "automargin": true,
           "gridcolor": "white",
           "linecolor": "white",
           "ticks": "",
           "title": {
            "standoff": 15
           },
           "zerolinecolor": "white",
           "zerolinewidth": 2
          }
         }
        },
        "title": {
         "font": {
          "color": "rgb(0,89,158)",
          "family": "Arial"
         },
         "text": "Energy yield of parking roof top",
         "x": 0.5
        },
        "uniformtext": {
         "minsize": 20
        },
        "xaxis": {
         "linecolor": "rgb(0,89,158)",
         "linewidth": 3,
         "showgrid": false,
         "showline": true,
         "showticklabels": true,
         "tickfont": {
          "color": "rgb(0,89,158)",
          "family": "Arial",
          "size": 15
         },
         "ticks": "outside",
         "title": {
          "font": {
           "family": "Arial"
          },
          "standoff": 10,
          "text": "Month"
         }
        },
        "yaxis": {
         "linecolor": "rgb(0,89,158)",
         "linewidth": 2,
         "showgrid": false,
         "showline": true,
         "showticklabels": true,
         "tickfont": {
          "color": "rgb(0,89,158)",
          "family": "Arial",
          "size": 15
         },
         "ticklabelposition": "outside",
         "ticks": "outside",
         "title": {
          "text": "Energy in million Wh"
         }
        }
       }
      },
      "text/html": [
       "<div>                            <div id=\"6daf5c50-de94-4072-9f59-4602829b9184\" class=\"plotly-graph-div\" style=\"height:525px; width:100%;\"></div>            <script type=\"text/javascript\">                require([\"plotly\"], function(Plotly) {                    window.PLOTLYENV=window.PLOTLYENV || {};                                    if (document.getElementById(\"6daf5c50-de94-4072-9f59-4602829b9184\")) {                    Plotly.newPlot(                        \"6daf5c50-de94-4072-9f59-4602829b9184\",                        [{\"marker\":{\"color\":\"rgb(9,47,77)\"},\"name\":\"Energy distribution across the year\",\"text\":[1681971.1436508812,2208375.939676002,5086217.58201114,7142736.345789863,6164117.203088483,5993942.5274992725,6089584.200805942,4916915.651195239,5285833.416587602,2109769.538323887,1858402.7873151037,1093088.648163447],\"x\":[\"Jan\",\"Feb\",\"Mar\",\"Apr\",\"May\",\"Jun\",\"Jul\",\"Aug\",\"Sep\",\"Oct\",\"Nov\",\"Dec\"],\"y\":[1681971.1436508812,2208375.939676002,5086217.58201114,7142736.345789863,6164117.203088483,5993942.5274992725,6089584.200805942,4916915.651195239,5285833.416587602,2109769.538323887,1858402.7873151037,1093088.648163447],\"type\":\"bar\",\"textfont\":{\"color\":\"white\",\"family\":\"Arial\",\"size\":18},\"opacity\":1,\"textposition\":\"inside\",\"texttemplate\":\"%{text:.4s}\"}],                        {\"template\":{\"data\":{\"histogram2dcontour\":[{\"type\":\"histogram2dcontour\",\"colorbar\":{\"outlinewidth\":0,\"ticks\":\"\"},\"colorscale\":[[0.0,\"#0d0887\"],[0.1111111111111111,\"#46039f\"],[0.2222222222222222,\"#7201a8\"],[0.3333333333333333,\"#9c179e\"],[0.4444444444444444,\"#bd3786\"],[0.5555555555555556,\"#d8576b\"],[0.6666666666666666,\"#ed7953\"],[0.7777777777777778,\"#fb9f3a\"],[0.8888888888888888,\"#fdca26\"],[1.0,\"#f0f921\"]]}],\"choropleth\":[{\"type\":\"choropleth\",\"colorbar\":{\"outlinewidth\":0,\"ticks\":\"\"}}],\"histogram2d\":[{\"type\":\"histogram2d\",\"colorbar\":{\"outlinewidth\":0,\"ticks\":\"\"},\"colorscale\":[[0.0,\"#0d0887\"],[0.1111111111111111,\"#46039f\"],[0.2222222222222222,\"#7201a8\"],[0.3333333333333333,\"#9c179e\"],[0.4444444444444444,\"#bd3786\"],[0.5555555555555556,\"#d8576b\"],[0.6666666666666666,\"#ed7953\"],[0.7777777777777778,\"#fb9f3a\"],[0.8888888888888888,\"#fdca26\"],[1.0,\"#f0f921\"]]}],\"heatmap\":[{\"type\":\"heatmap\",\"colorbar\":{\"outlinewidth\":0,\"ticks\":\"\"},\"colorscale\":[[0.0,\"#0d0887\"],[0.1111111111111111,\"#46039f\"],[0.2222222222222222,\"#7201a8\"],[0.3333333333333333,\"#9c179e\"],[0.4444444444444444,\"#bd3786\"],[0.5555555555555556,\"#d8576b\"],[0.6666666666666666,\"#ed7953\"],[0.7777777777777778,\"#fb9f3a\"],[0.8888888888888888,\"#fdca26\"],[1.0,\"#f0f921\"]]}],\"heatmapgl\":[{\"type\":\"heatmapgl\",\"colorbar\":{\"outlinewidth\":0,\"ticks\":\"\"},\"colorscale\":[[0.0,\"#0d0887\"],[0.1111111111111111,\"#46039f\"],[0.2222222222222222,\"#7201a8\"],[0.3333333333333333,\"#9c179e\"],[0.4444444444444444,\"#bd3786\"],[0.5555555555555556,\"#d8576b\"],[0.6666666666666666,\"#ed7953\"],[0.7777777777777778,\"#fb9f3a\"],[0.8888888888888888,\"#fdca26\"],[1.0,\"#f0f921\"]]}],\"contourcarpet\":[{\"type\":\"contourcarpet\",\"colorbar\":{\"outlinewidth\":0,\"ticks\":\"\"}}],\"contour\":[{\"type\":\"contour\",\"colorbar\":{\"outlinewidth\":0,\"ticks\":\"\"},\"colorscale\":[[0.0,\"#0d0887\"],[0.1111111111111111,\"#46039f\"],[0.2222222222222222,\"#7201a8\"],[0.3333333333333333,\"#9c179e\"],[0.4444444444444444,\"#bd3786\"],[0.5555555555555556,\"#d8576b\"],[0.6666666666666666,\"#ed7953\"],[0.7777777777777778,\"#fb9f3a\"],[0.8888888888888888,\"#fdca26\"],[1.0,\"#f0f921\"]]}],\"surface\":[{\"type\":\"surface\",\"colorbar\":{\"outlinewidth\":0,\"ticks\":\"\"},\"colorscale\":[[0.0,\"#0d0887\"],[0.1111111111111111,\"#46039f\"],[0.2222222222222222,\"#7201a8\"],[0.3333333333333333,\"#9c179e\"],[0.4444444444444444,\"#bd3786\"],[0.5555555555555556,\"#d8576b\"],[0.6666666666666666,\"#ed7953\"],[0.7777777777777778,\"#fb9f3a\"],[0.8888888888888888,\"#fdca26\"],[1.0,\"#f0f921\"]]}],\"mesh3d\":[{\"type\":\"mesh3d\",\"colorbar\":{\"outlinewidth\":0,\"ticks\":\"\"}}],\"scatter\":[{\"fillpattern\":{\"fillmode\":\"overlay\",\"size\":10,\"solidity\":0.2},\"type\":\"scatter\"}],\"parcoords\":[{\"type\":\"parcoords\",\"line\":{\"colorbar\":{\"outlinewidth\":0,\"ticks\":\"\"}}}],\"scatterpolargl\":[{\"type\":\"scatterpolargl\",\"marker\":{\"colorbar\":{\"outlinewidth\":0,\"ticks\":\"\"}}}],\"bar\":[{\"error_x\":{\"color\":\"#2a3f5f\"},\"error_y\":{\"color\":\"#2a3f5f\"},\"marker\":{\"line\":{\"color\":\"#E5ECF6\",\"width\":0.5},\"pattern\":{\"fillmode\":\"overlay\",\"size\":10,\"solidity\":0.2}},\"type\":\"bar\"}],\"scattergeo\":[{\"type\":\"scattergeo\",\"marker\":{\"colorbar\":{\"outlinewidth\":0,\"ticks\":\"\"}}}],\"scatterpolar\":[{\"type\":\"scatterpolar\",\"marker\":{\"colorbar\":{\"outlinewidth\":0,\"ticks\":\"\"}}}],\"histogram\":[{\"marker\":{\"pattern\":{\"fillmode\":\"overlay\",\"size\":10,\"solidity\":0.2}},\"type\":\"histogram\"}],\"scattergl\":[{\"type\":\"scattergl\",\"marker\":{\"colorbar\":{\"outlinewidth\":0,\"ticks\":\"\"}}}],\"scatter3d\":[{\"type\":\"scatter3d\",\"line\":{\"colorbar\":{\"outlinewidth\":0,\"ticks\":\"\"}},\"marker\":{\"colorbar\":{\"outlinewidth\":0,\"ticks\":\"\"}}}],\"scattermapbox\":[{\"type\":\"scattermapbox\",\"marker\":{\"colorbar\":{\"outlinewidth\":0,\"ticks\":\"\"}}}],\"scatterternary\":[{\"type\":\"scatterternary\",\"marker\":{\"colorbar\":{\"outlinewidth\":0,\"ticks\":\"\"}}}],\"scattercarpet\":[{\"type\":\"scattercarpet\",\"marker\":{\"colorbar\":{\"outlinewidth\":0,\"ticks\":\"\"}}}],\"carpet\":[{\"aaxis\":{\"endlinecolor\":\"#2a3f5f\",\"gridcolor\":\"white\",\"linecolor\":\"white\",\"minorgridcolor\":\"white\",\"startlinecolor\":\"#2a3f5f\"},\"baxis\":{\"endlinecolor\":\"#2a3f5f\",\"gridcolor\":\"white\",\"linecolor\":\"white\",\"minorgridcolor\":\"white\",\"startlinecolor\":\"#2a3f5f\"},\"type\":\"carpet\"}],\"table\":[{\"cells\":{\"fill\":{\"color\":\"#EBF0F8\"},\"line\":{\"color\":\"white\"}},\"header\":{\"fill\":{\"color\":\"#C8D4E3\"},\"line\":{\"color\":\"white\"}},\"type\":\"table\"}],\"barpolar\":[{\"marker\":{\"line\":{\"color\":\"#E5ECF6\",\"width\":0.5},\"pattern\":{\"fillmode\":\"overlay\",\"size\":10,\"solidity\":0.2}},\"type\":\"barpolar\"}],\"pie\":[{\"automargin\":true,\"type\":\"pie\"}]},\"layout\":{\"autotypenumbers\":\"strict\",\"colorway\":[\"#636efa\",\"#EF553B\",\"#00cc96\",\"#ab63fa\",\"#FFA15A\",\"#19d3f3\",\"#FF6692\",\"#B6E880\",\"#FF97FF\",\"#FECB52\"],\"font\":{\"color\":\"#2a3f5f\"},\"hovermode\":\"closest\",\"hoverlabel\":{\"align\":\"left\"},\"paper_bgcolor\":\"white\",\"plot_bgcolor\":\"#E5ECF6\",\"polar\":{\"bgcolor\":\"#E5ECF6\",\"angularaxis\":{\"gridcolor\":\"white\",\"linecolor\":\"white\",\"ticks\":\"\"},\"radialaxis\":{\"gridcolor\":\"white\",\"linecolor\":\"white\",\"ticks\":\"\"}},\"ternary\":{\"bgcolor\":\"#E5ECF6\",\"aaxis\":{\"gridcolor\":\"white\",\"linecolor\":\"white\",\"ticks\":\"\"},\"baxis\":{\"gridcolor\":\"white\",\"linecolor\":\"white\",\"ticks\":\"\"},\"caxis\":{\"gridcolor\":\"white\",\"linecolor\":\"white\",\"ticks\":\"\"}},\"coloraxis\":{\"colorbar\":{\"outlinewidth\":0,\"ticks\":\"\"}},\"colorscale\":{\"sequential\":[[0.0,\"#0d0887\"],[0.1111111111111111,\"#46039f\"],[0.2222222222222222,\"#7201a8\"],[0.3333333333333333,\"#9c179e\"],[0.4444444444444444,\"#bd3786\"],[0.5555555555555556,\"#d8576b\"],[0.6666666666666666,\"#ed7953\"],[0.7777777777777778,\"#fb9f3a\"],[0.8888888888888888,\"#fdca26\"],[1.0,\"#f0f921\"]],\"sequentialminus\":[[0.0,\"#0d0887\"],[0.1111111111111111,\"#46039f\"],[0.2222222222222222,\"#7201a8\"],[0.3333333333333333,\"#9c179e\"],[0.4444444444444444,\"#bd3786\"],[0.5555555555555556,\"#d8576b\"],[0.6666666666666666,\"#ed7953\"],[0.7777777777777778,\"#fb9f3a\"],[0.8888888888888888,\"#fdca26\"],[1.0,\"#f0f921\"]],\"diverging\":[[0,\"#8e0152\"],[0.1,\"#c51b7d\"],[0.2,\"#de77ae\"],[0.3,\"#f1b6da\"],[0.4,\"#fde0ef\"],[0.5,\"#f7f7f7\"],[0.6,\"#e6f5d0\"],[0.7,\"#b8e186\"],[0.8,\"#7fbc41\"],[0.9,\"#4d9221\"],[1,\"#276419\"]]},\"xaxis\":{\"gridcolor\":\"white\",\"linecolor\":\"white\",\"ticks\":\"\",\"title\":{\"standoff\":15},\"zerolinecolor\":\"white\",\"automargin\":true,\"zerolinewidth\":2},\"yaxis\":{\"gridcolor\":\"white\",\"linecolor\":\"white\",\"ticks\":\"\",\"title\":{\"standoff\":15},\"zerolinecolor\":\"white\",\"automargin\":true,\"zerolinewidth\":2},\"scene\":{\"xaxis\":{\"backgroundcolor\":\"#E5ECF6\",\"gridcolor\":\"white\",\"linecolor\":\"white\",\"showbackground\":true,\"ticks\":\"\",\"zerolinecolor\":\"white\",\"gridwidth\":2},\"yaxis\":{\"backgroundcolor\":\"#E5ECF6\",\"gridcolor\":\"white\",\"linecolor\":\"white\",\"showbackground\":true,\"ticks\":\"\",\"zerolinecolor\":\"white\",\"gridwidth\":2},\"zaxis\":{\"backgroundcolor\":\"#E5ECF6\",\"gridcolor\":\"white\",\"linecolor\":\"white\",\"showbackground\":true,\"ticks\":\"\",\"zerolinecolor\":\"white\",\"gridwidth\":2}},\"shapedefaults\":{\"line\":{\"color\":\"#2a3f5f\"}},\"annotationdefaults\":{\"arrowcolor\":\"#2a3f5f\",\"arrowhead\":0,\"arrowwidth\":1},\"geo\":{\"bgcolor\":\"white\",\"landcolor\":\"#E5ECF6\",\"subunitcolor\":\"white\",\"showland\":true,\"showlakes\":true,\"lakecolor\":\"white\"},\"title\":{\"x\":0.05},\"mapbox\":{\"style\":\"light\"}}},\"uniformtext\":{\"minsize\":20},\"title\":{\"text\":\"Energy yield of parking roof top\",\"x\":0.5,\"font\":{\"family\":\"Arial\",\"color\":\"rgb(0,89,158)\"}},\"font\":{\"size\":18,\"family\":\"Arial\",\"color\":\"rgb(0,89,158)\"},\"legend\":{\"title\":{\"font\":{\"family\":\"Arial\"}},\"font\":{\"family\":\"Arial\",\"size\":10,\"color\":\"rgb(0,89,158)\"},\"orientation\":\"h\",\"yanchor\":\"middle\",\"y\":-0.3,\"xanchor\":\"center\",\"x\":0.5,\"bgcolor\":\"rgb(227,228,230)\",\"bordercolor\":\"rgb(0,89,158)\",\"valign\":\"bottom\",\"tracegroupgap\":500,\"borderwidth\":1},\"yaxis\":{\"title\":{\"text\":\"Energy in million Wh\"},\"tickfont\":{\"family\":\"Arial\",\"size\":15,\"color\":\"rgb(0,89,158)\"},\"showline\":true,\"showgrid\":false,\"showticklabels\":true,\"linecolor\":\"rgb(0,89,158)\",\"ticklabelposition\":\"outside\",\"linewidth\":2,\"ticks\":\"outside\"},\"xaxis\":{\"title\":{\"font\":{\"family\":\"Arial\"},\"text\":\"Month\",\"standoff\":10},\"tickfont\":{\"family\":\"Arial\",\"size\":15,\"color\":\"rgb(0,89,158)\"},\"showline\":true,\"showgrid\":false,\"showticklabels\":true,\"linecolor\":\"rgb(0,89,158)\",\"linewidth\":3,\"ticks\":\"outside\"},\"margin\":{\"autoexpand\":true,\"l\":50,\"r\":50,\"b\":100,\"t\":100,\"pad\":0},\"autosize\":true,\"showlegend\":false,\"paper_bgcolor\":\"rgb(227,228,230)\",\"plot_bgcolor\":\"rgb(210,210,212)\"},                        {\"responsive\": true}                    ).then(function(){\n",
       "                            \n",
       "var gd = document.getElementById('6daf5c50-de94-4072-9f59-4602829b9184');\n",
       "var x = new MutationObserver(function (mutations, observer) {{\n",
       "        var display = window.getComputedStyle(gd).display;\n",
       "        if (!display || display === 'none') {{\n",
       "            console.log([gd, 'removed!']);\n",
       "            Plotly.purge(gd);\n",
       "            observer.disconnect();\n",
       "        }}\n",
       "}});\n",
       "\n",
       "// Listen for the removal of the full notebook cells\n",
       "var notebookContainer = gd.closest('#notebook-container');\n",
       "if (notebookContainer) {{\n",
       "    x.observe(notebookContainer, {childList: true});\n",
       "}}\n",
       "\n",
       "// Listen for the clearing of the current output cell\n",
       "var outputEl = gd.closest('.output');\n",
       "if (outputEl) {{\n",
       "    x.observe(outputEl, {childList: true});\n",
       "}}\n",
       "\n",
       "                        })                };                });            </script>        </div>"
      ]
     },
     "metadata": {},
     "output_type": "display_data"
    }
   ],
   "source": [
    "data = [trace1]\n",
    "fig = go.Figure(data = data)\n",
    "fig.update_traces(texttemplate='%{text:.4s}',textposition='inside', opacity=1,\n",
    "                  textfont=dict(family=A,size=18,color='white'))\n",
    "fig.update_layout(uniformtext_minsize=20)\n",
    "#fig.update_layout(xaxis_tickangle=45)\n",
    "fig.update_layout(title='Energy yield of parking roof top',\n",
    "                  title_x=0.5,\n",
    "                  yaxis_title='Energy in million Wh',font=dict(size=18),\n",
    "                 legend=dict(\n",
    "    #itemwidth=30,\n",
    "    orientation='h',\n",
    "    yanchor=\"middle\",\n",
    "    y=-0.3,\n",
    "    xanchor=\"center\",\n",
    "    x=0.5,\n",
    "    title_font_family=A,\n",
    "    font=dict(\n",
    "    family=A,\n",
    "    size=10,\n",
    "    color=hsn_blue),\n",
    "    bgcolor=hsn_greyl,\n",
    "    bordercolor=hsn_blue,\n",
    "    valign='bottom',\n",
    "    tracegroupgap=10,\n",
    "    borderwidth=1,),\n",
    "    font_family=A,\n",
    "    font_color=hsn_blue,\n",
    "    title_font_family=A,\n",
    "    title_font_color=hsn_blue,\n",
    "    legend_tracegroupgap=500,\n",
    "                    \n",
    ")\n",
    "fig.update_xaxes(title_font_family=A)\n",
    "fig.update_layout(\n",
    "xaxis=dict(\n",
    "showline=True,showgrid=False,showticklabels=True,\n",
    "linecolor=hsn_blue,\n",
    "title_text=\"Month\",\n",
    "title_standoff = 10,\n",
    "linewidth=3,ticks='outside',tickfont=dict(\n",
    "family=A,size=15,color=hsn_blue))\n",
    ",\n",
    "yaxis=dict(\n",
    "showline=True,showgrid=False,showticklabels=True,\n",
    "linecolor=hsn_blue,\n",
    "ticklabelposition=\"outside\",\n",
    "linewidth=2,ticks='outside',tickfont=dict(\n",
    "family=A,size=15,color=hsn_blue)\n",
    "),autosize=True,margin=dict(\n",
    "autoexpand=True,l=50,r=50,b=100,t=100,pad=0),\n",
    "showlegend=False,paper_bgcolor=hsn_greyl,\n",
    "    plot_bgcolor=hsn_greym)\n",
    "fig.show()\n",
    "pio.write_image(fig, 'energy yield.png',scale=6, width=1080, height=650)"
   ]
  },
  {
   "cell_type": "code",
   "execution_count": null,
   "id": "5e54878f",
   "metadata": {},
   "outputs": [],
   "source": []
  },
  {
   "cell_type": "code",
   "execution_count": null,
   "id": "3927a17b",
   "metadata": {},
   "outputs": [],
   "source": []
  }
 ],
 "metadata": {
  "kernelspec": {
   "display_name": "Python 3 (ipykernel)",
   "language": "python",
   "name": "python3"
  },
  "language_info": {
   "codemirror_mode": {
    "name": "ipython",
    "version": 3
   },
   "file_extension": ".py",
   "mimetype": "text/x-python",
   "name": "python",
   "nbconvert_exporter": "python",
   "pygments_lexer": "ipython3",
   "version": "3.9.13"
  }
 },
 "nbformat": 4,
 "nbformat_minor": 5
}
